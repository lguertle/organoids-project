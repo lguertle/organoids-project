{
 "cells": [
  {
   "cell_type": "code",
   "execution_count": 11,
   "metadata": {},
   "outputs": [
    {
     "ename": "ImportError",
     "evalue": "cannot import name 'CziReader' from 'aicspylibczi' (c:\\Users\\lguertle\\AppData\\Local\\anaconda3\\envs\\czi_reader\\lib\\site-packages\\aicspylibczi\\__init__.py)",
     "output_type": "error",
     "traceback": [
      "\u001b[1;31m---------------------------------------------------------------------------\u001b[0m",
      "\u001b[1;31mImportError\u001b[0m                               Traceback (most recent call last)",
      "Cell \u001b[1;32mIn[11], line 1\u001b[0m\n\u001b[1;32m----> 1\u001b[0m \u001b[38;5;28;01mfrom\u001b[39;00m \u001b[38;5;21;01maicspylibczi\u001b[39;00m \u001b[38;5;28;01mimport\u001b[39;00m CziReader\n\u001b[0;32m      3\u001b[0m \u001b[38;5;28;01mwith\u001b[39;00m CziReader(\u001b[38;5;124m'\u001b[39m\u001b[38;5;124mD:/RawDataLaurent/Source/2023-02-01/20230201 x10 brigh 228 position 25Zstack.czi\u001b[39m\u001b[38;5;124m'\u001b[39m) \u001b[38;5;28;01mas\u001b[39;00m czi:\n\u001b[0;32m      4\u001b[0m     img_data \u001b[38;5;241m=\u001b[39m czi\u001b[38;5;241m.\u001b[39mread_mosaic()\n",
      "\u001b[1;31mImportError\u001b[0m: cannot import name 'CziReader' from 'aicspylibczi' (c:\\Users\\lguertle\\AppData\\Local\\anaconda3\\envs\\czi_reader\\lib\\site-packages\\aicspylibczi\\__init__.py)"
     ]
    }
   ],
   "source": [
    "from aicspylibczi import CziReader\n",
    "\n",
    "with CziReader('D:/RawDataLaurent/Source/2023-02-01/20230201 x10 brigh 228 position 25Zstack.czi') as czi:\n",
    "    img_data = czi.read_mosaic()"
   ]
  },
  {
   "cell_type": "code",
   "execution_count": null,
   "metadata": {},
   "outputs": [],
   "source": []
  }
 ],
 "metadata": {
  "kernelspec": {
   "display_name": "czi_reader",
   "language": "python",
   "name": "python3"
  },
  "language_info": {
   "codemirror_mode": {
    "name": "ipython",
    "version": 3
   },
   "file_extension": ".py",
   "mimetype": "text/x-python",
   "name": "python",
   "nbconvert_exporter": "python",
   "pygments_lexer": "ipython3",
   "version": "3.9.18"
  }
 },
 "nbformat": 4,
 "nbformat_minor": 2
}
