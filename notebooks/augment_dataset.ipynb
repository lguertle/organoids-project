{
 "cells": [
  {
   "cell_type": "code",
   "execution_count": 14,
   "metadata": {},
   "outputs": [
    {
     "name": "stdout",
     "output_type": "stream",
     "text": [
      "Successfully loaded data from D:/data_for_DL/\n",
      "['keep0', 'keep1', 'keep2', 'reseed0', 'reseed1', 'split', 'dead', 'empty']\n"
     ]
    }
   ],
   "source": [
    "from torchvision import transforms\n",
    "from PIL import Image\n",
    "import os\n",
    "import torchvision.transforms.functional as TF\n",
    "import random\n",
    "import shutil\n",
    "from sklearn.model_selection import train_test_split\n",
    "from importlib import reload\n",
    "import utility\n",
    "reload(utility)\n",
    "from utility import load_data, plot_confusion_matrix, plot_average_f1_scores, train_model, get_classification_details, get_hard_disk_path, show_samples, plot_features_importance, visualize_correlation, get_shap\n",
    "\n",
    "# Define your custom transform\n",
    "def augment_image(image, augmentation_count):\n",
    "    \"\"\"\n",
    "    Apply all combinations of flips and 90-degree rotations to the image.\n",
    "    Returns a list of augmented images.\n",
    "    \"\"\"\n",
    "    augmented_images = []\n",
    "    for flip_h in [True, False]:\n",
    "        for flip_v in [True, False]:\n",
    "            for rotation in [0, 90, 180, 270]:\n",
    "                aug_image = image\n",
    "                if flip_h:\n",
    "                    aug_image = TF.hflip(aug_image)\n",
    "                if flip_v:\n",
    "                    aug_image = TF.vflip(aug_image)\n",
    "                aug_image = TF.rotate(aug_image, rotation)\n",
    "                augmented_images.append(aug_image)\n",
    "                if len(augmented_images) >= augmentation_count:\n",
    "                    return augmented_images\n",
    "    return augmented_images\n",
    "\n",
    "\n",
    "def split_and_augment(input_data_dir, class_dir, train_dir, test_dir, augment_factor=5, test_size=0.2):\n",
    "    # Get all image filenames\n",
    "    image_files = [f for f in sorted(os.listdir(input_data_dir)) if f.endswith('.jpg')]\n",
    "    train_files, test_files = train_test_split(image_files, test_size=test_size, random_state=42)\n",
    "\n",
    "    # Copy test files to the test directory instead of moving\n",
    "    for f in test_files:\n",
    "        shutil.copy(os.path.join(input_data_dir, f), os.path.join(test_dir, f))\n",
    "\n",
    "    # Augment train files and save copies\n",
    "    for f in train_files:\n",
    "        img_path = os.path.join(input_data_dir, f)\n",
    "        image = Image.open(img_path)\n",
    "        shutil.copy(img_path, os.path.join(train_dir, f))  # Also just copy original image\n",
    "\n",
    "        # Generate and save augmented images\n",
    "        augmented_images = augment_image(image, augment_factor)\n",
    "        for i, aug_image in enumerate(augmented_images):\n",
    "            augmented_image_path = os.path.join(train_dir, f\"{i}_{f}\")\n",
    "            aug_image.save(augmented_image_path)\n",
    "\n",
    "# Example usage:\n",
    "\n",
    "data_dir = os.path.join(get_hard_disk_path(\"DL\"), \"z_projection\")\n",
    "output_dir = \"D:/data_for_DL_augmented/\"\n",
    "classes = [d for d in os.listdir(data_dir) if os.path.isdir(os.path.join(data_dir, d))]\n",
    "print(classes)\n",
    "\n",
    "for class_name in classes:\n",
    "    os.makedirs(os.path.join(output_dir, class_name))\n",
    "    class_dir = os.path.join(output_dir, class_name)\n",
    "    train_class_dir = os.path.join(class_dir, 'train')\n",
    "    test_class_dir = os.path.join(class_dir, 'test')\n",
    "    input_data_dir = os.path.join(data_dir, class_name)\n",
    "\n",
    "    # Create directories for the class inside train and test folders\n",
    "    os.makedirs(train_class_dir, exist_ok=True)\n",
    "    os.makedirs(test_class_dir, exist_ok=True)\n",
    "\n",
    "    split_and_augment(input_data_dir, class_dir, train_class_dir, test_class_dir)"
   ]
  },
  {
   "cell_type": "code",
   "execution_count": 17,
   "metadata": {},
   "outputs": [
    {
     "name": "stdout",
     "output_type": "stream",
     "text": [
      "All images in the folder are unique.\n"
     ]
    }
   ],
   "source": [
    "import os\n",
    "from PIL import Image\n",
    "import hashlib\n",
    "\n",
    "def file_hash(filepath):\n",
    "    with open(filepath, 'rb') as f:\n",
    "        return hashlib.md5(f.read()).hexdigest()\n",
    "\n",
    "def all_images_unique(directory):\n",
    "    hashes = set()\n",
    "    for filename in os.listdir(directory):\n",
    "        if filename.endswith('.jpg'):  # Assuming all images are in JPEG format\n",
    "            file_path = os.path.join(directory, filename)\n",
    "            image_hash = file_hash(file_path)\n",
    "            if image_hash in hashes:\n",
    "                print(f\"Duplicate found: {filename}\")\n",
    "                return False  # Return False if a duplicate is found\n",
    "            hashes.add(image_hash)\n",
    "    return True  # Return True if all images are unique\n",
    "\n",
    "# Usage\n",
    "dir_path = 'D:/data_for_DL_augmented/reseed0/train/'\n",
    "if all_images_unique(dir_path):\n",
    "    print(\"All images in the folder are unique.\")\n",
    "else:\n",
    "    print(\"There are duplicate images in the folder.\")"
   ]
  },
  {
   "cell_type": "code",
   "execution_count": null,
   "metadata": {},
   "outputs": [],
   "source": []
  }
 ],
 "metadata": {
  "kernelspec": {
   "display_name": "organoids-project",
   "language": "python",
   "name": "python3"
  },
  "language_info": {
   "codemirror_mode": {
    "name": "ipython",
    "version": 3
   },
   "file_extension": ".py",
   "mimetype": "text/x-python",
   "name": "python",
   "nbconvert_exporter": "python",
   "pygments_lexer": "ipython3",
   "version": "3.11.5"
  }
 },
 "nbformat": 4,
 "nbformat_minor": 2
}
