{
 "cells": [
  {
   "cell_type": "code",
   "execution_count": 2,
   "id": "29fc0c84-beb2-4a3b-a53e-9b49b0233e49",
   "metadata": {},
   "outputs": [
    {
     "data": {
      "text/plain": [
       "<Labels layer 'Segmented Cells' at 0x2c5a177b910>"
      ]
     },
     "execution_count": 2,
     "metadata": {},
     "output_type": "execute_result"
    }
   ],
   "source": [
    "import numpy as np\n",
    "from skimage import exposure\n",
    "from skimage.segmentation import watershed\n",
    "from skimage.feature import peak_local_max\n",
    "from scipy import ndimage as ndi\n",
    "from cellpose import models\n",
    "import napari\n",
    "import os\n",
    "import cv2\n",
    "import matplotlib.pyplot as plt\n",
    "\n",
    "# Load your image\n",
    "os.chdir(\"E:/data_for_seg/z_projection/receed0\")\n",
    "files = os.listdir()\n",
    "\n",
    "# Load the first image in the directory in grayscale\n",
    "image = cv2.imread(files[1], cv2.IMREAD_GRAYSCALE)\n",
    "\n",
    "spacing = np.array([0.26, 0.26])\n",
    "\n",
    "viewer = napari.view_image(\n",
    "    image,\n",
    "    scale=spacing,\n",
    "    ndisplay=2,\n",
    ")\n",
    "\n",
    "# Get the selected image layer\n",
    "selected_layer = viewer.layers.selection.active\n",
    "\n",
    "# Convert the image to float\n",
    "image = selected_layer.data.astype(float)\n",
    "\n",
    "# Enhance the intensity of the cells using histogram equalization\n",
    "equalized_image = exposure.equalize_hist(image)\n",
    "\n",
    "# Add the enhanced image to the viewer\n",
    "viewer.add_image(equalized_image, name='Enhanced Image')\n",
    "\n",
    "# Segment the cells in the enhanced image using the Cellpose method\n",
    "model = models.Cellpose(gpu=False, model_type='cyto')\n",
    "\n",
    "# Run the model on the equalized image\n",
    "masks, flows, styles, diams = model.eval(equalized_image, diameter=None, channels=[0,0])\n",
    "\n",
    "# Add the segmented image to the viewer\n",
    "viewer.add_labels(masks, name='Segmented Cells')"
   ]
  },
  {
   "cell_type": "code",
   "execution_count": null,
   "id": "525615a0-f84a-494f-a953-992f9c32008d",
   "metadata": {},
   "outputs": [],
   "source": []
  }
 ],
 "metadata": {
  "kernelspec": {
   "display_name": "organoids-project",
   "language": "python",
   "name": "organoids-project"
  },
  "language_info": {
   "codemirror_mode": {
    "name": "ipython",
    "version": 3
   },
   "file_extension": ".py",
   "mimetype": "text/x-python",
   "name": "python",
   "nbconvert_exporter": "python",
   "pygments_lexer": "ipython3",
   "version": "3.10.13"
  }
 },
 "nbformat": 4,
 "nbformat_minor": 5
}
