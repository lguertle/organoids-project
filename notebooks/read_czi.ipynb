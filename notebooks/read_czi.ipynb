{
 "cells": [
  {
   "cell_type": "code",
   "execution_count": null,
   "metadata": {},
   "outputs": [],
   "source": [
    "from aicsimageio import AICSImage\n",
    "\n",
    "def read_czi(file_path):\n",
    "    # Load the CZI file\n",
    "    img = AICSImage(file_path)\n",
    "\n",
    "    # Get image data\n",
    "    data = img.get_image_data()\n",
    "\n",
    "    # Get metadata\n",
    "    metadata = img.metadata\n",
    "\n",
    "    # Print some basic information\n",
    "    print(f\"Image shape: {data.shape}\")\n",
    "    print(f\"Metadata: {metadata}\")\n",
    "\n",
    "    return data, metadata\n",
    "\n",
    "# Replace 'your_file.czi' with the path to your CZI file\n",
    "data, metadata = read_czi('your_file.czi')"
   ]
  }
 ],
 "metadata": {
  "language_info": {
   "name": "python"
  }
 },
 "nbformat": 4,
 "nbformat_minor": 2
}
