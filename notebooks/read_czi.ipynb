{
 "cells": [
  {
   "cell_type": "code",
   "execution_count": 2,
   "metadata": {},
   "outputs": [
    {
     "name": "stderr",
     "output_type": "stream",
     "text": [
      "Attempted file (D:/RawDataLaurent/Source/2023-02-21/2023-02-21 x10 Zstack-02.czi) load with reader: aicsimageio.readers.czi_reader.CziReader failed with error: aicspylibczi is required for this reader. Install with `pip install 'aicspylibczi>=3.1.1' 'fsspec>=2022.7.1'`\n",
      "Attempted file (D:/RawDataLaurent/Source/2023-02-21/2023-02-21 x10 Zstack-02.czi) load with reader: aicsimageio.readers.bioformats_reader.BioformatsReader failed with error: bioformats_jar is required for this reader. Install with `pip install bioformats_jar` or `conda install bioformats_jar`\n"
     ]
    },
    {
     "ename": "UnsupportedFileFormatError",
     "evalue": "AICSImage does not support the image: 'D:/RawDataLaurent/Source/2023-02-21/2023-02-21 x10 Zstack-02.czi'. File extension suggests format: 'czi'. Install extra format dependency with: `pip install aicspylibczi>=3.1.1`. See all known format extensions and their extra install name with `aicsimageio.formats.FORMAT_IMPLEMENTATIONS`. If the extra dependency is already installed this error may have raised because the file is corrupt or similar issue. For potentially more information and to help debug, try loading the file directly with the desired file format reader instead of with the AICSImage object.",
     "output_type": "error",
     "traceback": [
      "\u001b[1;31m---------------------------------------------------------------------------\u001b[0m",
      "\u001b[1;31mUnsupportedFileFormatError\u001b[0m                Traceback (most recent call last)",
      "Cell \u001b[1;32mIn[2], line 20\u001b[0m\n\u001b[0;32m     17\u001b[0m     \u001b[38;5;28;01mreturn\u001b[39;00m data, metadata\n\u001b[0;32m     19\u001b[0m \u001b[38;5;66;03m# Replace 'your_file.czi' with the path to your CZI file\u001b[39;00m\n\u001b[1;32m---> 20\u001b[0m data, metadata \u001b[38;5;241m=\u001b[39m \u001b[43mread_czi\u001b[49m\u001b[43m(\u001b[49m\u001b[38;5;124;43m'\u001b[39;49m\u001b[38;5;124;43mD:/RawDataLaurent/Source/2023-02-21/2023-02-21 x10 Zstack-02.czi\u001b[39;49m\u001b[38;5;124;43m'\u001b[39;49m\u001b[43m)\u001b[49m\n",
      "Cell \u001b[1;32mIn[2], line 5\u001b[0m, in \u001b[0;36mread_czi\u001b[1;34m(file_path)\u001b[0m\n\u001b[0;32m      3\u001b[0m \u001b[38;5;28;01mdef\u001b[39;00m \u001b[38;5;21mread_czi\u001b[39m(file_path):\n\u001b[0;32m      4\u001b[0m     \u001b[38;5;66;03m# Load the CZI file\u001b[39;00m\n\u001b[1;32m----> 5\u001b[0m     img \u001b[38;5;241m=\u001b[39m \u001b[43mAICSImage\u001b[49m\u001b[43m(\u001b[49m\u001b[43mfile_path\u001b[49m\u001b[43m)\u001b[49m\n\u001b[0;32m      7\u001b[0m     \u001b[38;5;66;03m# Get image data\u001b[39;00m\n\u001b[0;32m      8\u001b[0m     data \u001b[38;5;241m=\u001b[39m img\u001b[38;5;241m.\u001b[39mget_image_data()\n",
      "File \u001b[1;32mc:\\Users\\lguertle\\AppData\\Local\\anaconda3\\envs\\czi_reader\\Lib\\site-packages\\aicsimageio\\aics_image.py:277\u001b[0m, in \u001b[0;36mAICSImage.__init__\u001b[1;34m(self, image, reader, reconstruct_mosaic, fs_kwargs, **kwargs)\u001b[0m\n\u001b[0;32m    267\u001b[0m \u001b[38;5;28;01mdef\u001b[39;00m \u001b[38;5;21m__init__\u001b[39m(\n\u001b[0;32m    268\u001b[0m     \u001b[38;5;28mself\u001b[39m,\n\u001b[0;32m    269\u001b[0m     image: types\u001b[38;5;241m.\u001b[39mImageLike,\n\u001b[1;32m   (...)\u001b[0m\n\u001b[0;32m    273\u001b[0m     \u001b[38;5;241m*\u001b[39m\u001b[38;5;241m*\u001b[39mkwargs: Any,\n\u001b[0;32m    274\u001b[0m ):\n\u001b[0;32m    275\u001b[0m     \u001b[38;5;28;01mif\u001b[39;00m reader \u001b[38;5;129;01mis\u001b[39;00m \u001b[38;5;28;01mNone\u001b[39;00m:\n\u001b[0;32m    276\u001b[0m         \u001b[38;5;66;03m# Determine reader class and create dask delayed array\u001b[39;00m\n\u001b[1;32m--> 277\u001b[0m         ReaderClass \u001b[38;5;241m=\u001b[39m \u001b[38;5;28;43mself\u001b[39;49m\u001b[38;5;241;43m.\u001b[39;49m\u001b[43mdetermine_reader\u001b[49m\u001b[43m(\u001b[49m\u001b[43mimage\u001b[49m\u001b[43m,\u001b[49m\u001b[43m \u001b[49m\u001b[43mfs_kwargs\u001b[49m\u001b[38;5;241;43m=\u001b[39;49m\u001b[43mfs_kwargs\u001b[49m\u001b[43m,\u001b[49m\u001b[43m \u001b[49m\u001b[38;5;241;43m*\u001b[39;49m\u001b[38;5;241;43m*\u001b[39;49m\u001b[43mkwargs\u001b[49m\u001b[43m)\u001b[49m\n\u001b[0;32m    278\u001b[0m     \u001b[38;5;28;01melse\u001b[39;00m:\n\u001b[0;32m    279\u001b[0m         \u001b[38;5;66;03m# Init reader\u001b[39;00m\n\u001b[0;32m    280\u001b[0m         ReaderClass \u001b[38;5;241m=\u001b[39m reader\n",
      "File \u001b[1;32mc:\\Users\\lguertle\\AppData\\Local\\anaconda3\\envs\\czi_reader\\Lib\\site-packages\\aicsimageio\\aics_image.py:231\u001b[0m, in \u001b[0;36mAICSImage.determine_reader\u001b[1;34m(image, fs_kwargs, **kwargs)\u001b[0m\n\u001b[0;32m    229\u001b[0m \u001b[38;5;28;01mif\u001b[39;00m readers[\u001b[38;5;241m0\u001b[39m] \u001b[38;5;129;01min\u001b[39;00m READER_TO_INSTALL:\n\u001b[0;32m    230\u001b[0m     installer \u001b[38;5;241m=\u001b[39m READER_TO_INSTALL[readers[\u001b[38;5;241m0\u001b[39m]]\n\u001b[1;32m--> 231\u001b[0m     \u001b[38;5;28;01mraise\u001b[39;00m exceptions\u001b[38;5;241m.\u001b[39mUnsupportedFileFormatError(\n\u001b[0;32m    232\u001b[0m         \u001b[38;5;124m\"\u001b[39m\u001b[38;5;124mAICSImage\u001b[39m\u001b[38;5;124m\"\u001b[39m,\n\u001b[0;32m    233\u001b[0m         path,\n\u001b[0;32m    234\u001b[0m         msg_extra\u001b[38;5;241m=\u001b[39m(\n\u001b[0;32m    235\u001b[0m             \u001b[38;5;124mf\u001b[39m\u001b[38;5;124m\"\u001b[39m\u001b[38;5;124mFile extension suggests format: \u001b[39m\u001b[38;5;124m'\u001b[39m\u001b[38;5;132;01m{\u001b[39;00mformat_ext\u001b[38;5;132;01m}\u001b[39;00m\u001b[38;5;124m'\u001b[39m\u001b[38;5;124m. \u001b[39m\u001b[38;5;124m\"\u001b[39m\n\u001b[0;32m    236\u001b[0m             \u001b[38;5;124mf\u001b[39m\u001b[38;5;124m\"\u001b[39m\u001b[38;5;124mInstall extra format dependency with: \u001b[39m\u001b[38;5;124m\"\u001b[39m\n\u001b[0;32m    237\u001b[0m             \u001b[38;5;124mf\u001b[39m\u001b[38;5;124m\"\u001b[39m\u001b[38;5;124m`pip install \u001b[39m\u001b[38;5;132;01m{\u001b[39;00minstaller\u001b[38;5;132;01m}\u001b[39;00m\u001b[38;5;124m`. \u001b[39m\u001b[38;5;124m\"\u001b[39m\n\u001b[0;32m    238\u001b[0m             \u001b[38;5;124mf\u001b[39m\u001b[38;5;124m\"\u001b[39m\u001b[38;5;124mSee all known format extensions and their \u001b[39m\u001b[38;5;124m\"\u001b[39m\n\u001b[0;32m    239\u001b[0m             \u001b[38;5;124mf\u001b[39m\u001b[38;5;124m\"\u001b[39m\u001b[38;5;124mextra install name with \u001b[39m\u001b[38;5;124m\"\u001b[39m\n\u001b[0;32m    240\u001b[0m             \u001b[38;5;124mf\u001b[39m\u001b[38;5;124m\"\u001b[39m\u001b[38;5;124m`aicsimageio.formats.FORMAT_IMPLEMENTATIONS`. \u001b[39m\u001b[38;5;124m\"\u001b[39m\n\u001b[0;32m    241\u001b[0m             \u001b[38;5;124mf\u001b[39m\u001b[38;5;124m\"\u001b[39m\u001b[38;5;124mIf the extra dependency is already installed this \u001b[39m\u001b[38;5;124m\"\u001b[39m\n\u001b[0;32m    242\u001b[0m             \u001b[38;5;124mf\u001b[39m\u001b[38;5;124m\"\u001b[39m\u001b[38;5;124merror may have raised because the file is \u001b[39m\u001b[38;5;124m\"\u001b[39m\n\u001b[0;32m    243\u001b[0m             \u001b[38;5;124mf\u001b[39m\u001b[38;5;124m\"\u001b[39m\u001b[38;5;124mcorrupt or similar issue. For potentially more \u001b[39m\u001b[38;5;124m\"\u001b[39m\n\u001b[0;32m    244\u001b[0m             \u001b[38;5;124mf\u001b[39m\u001b[38;5;124m\"\u001b[39m\u001b[38;5;124minformation and to help debug, try loading the file \u001b[39m\u001b[38;5;124m\"\u001b[39m\n\u001b[0;32m    245\u001b[0m             \u001b[38;5;124mf\u001b[39m\u001b[38;5;124m\"\u001b[39m\u001b[38;5;124mdirectly with the desired file format reader \u001b[39m\u001b[38;5;124m\"\u001b[39m\n\u001b[0;32m    246\u001b[0m             \u001b[38;5;124mf\u001b[39m\u001b[38;5;124m\"\u001b[39m\u001b[38;5;124minstead of with the AICSImage object.\u001b[39m\u001b[38;5;124m\"\u001b[39m\n\u001b[0;32m    247\u001b[0m         ),\n\u001b[0;32m    248\u001b[0m     )\n\u001b[0;32m    249\u001b[0m \u001b[38;5;28;01melse\u001b[39;00m:\n\u001b[0;32m    250\u001b[0m     \u001b[38;5;28;01mraise\u001b[39;00m exceptions\u001b[38;5;241m.\u001b[39mUnsupportedFileFormatError(\n\u001b[0;32m    251\u001b[0m         \u001b[38;5;124m\"\u001b[39m\u001b[38;5;124mAICSImage\u001b[39m\u001b[38;5;124m\"\u001b[39m,\n\u001b[0;32m    252\u001b[0m         path,\n\u001b[0;32m    253\u001b[0m     )\n",
      "\u001b[1;31mUnsupportedFileFormatError\u001b[0m: AICSImage does not support the image: 'D:/RawDataLaurent/Source/2023-02-21/2023-02-21 x10 Zstack-02.czi'. File extension suggests format: 'czi'. Install extra format dependency with: `pip install aicspylibczi>=3.1.1`. See all known format extensions and their extra install name with `aicsimageio.formats.FORMAT_IMPLEMENTATIONS`. If the extra dependency is already installed this error may have raised because the file is corrupt or similar issue. For potentially more information and to help debug, try loading the file directly with the desired file format reader instead of with the AICSImage object."
     ]
    }
   ],
   "source": [
    "from aicsimageio import AICSImage\n",
    "\n",
    "def read_czi(file_path):\n",
    "    # Load the CZI file\n",
    "    img = AICSImage(file_path)\n",
    "\n",
    "    # Get image data\n",
    "    data = img.get_image_data()\n",
    "\n",
    "    # Get metadata\n",
    "    metadata = img.metadata\n",
    "\n",
    "    # Print some basic information\n",
    "    print(f\"Image shape: {data.shape}\")\n",
    "    print(f\"Metadata: {metadata}\")\n",
    "\n",
    "    return data, metadata\n",
    "\n",
    "# Replace 'your_file.czi' with the path to your CZI file\n",
    "data, metadata = read_czi('D:/RawDataLaurent/Source/2023-02-21/2023-02-21 x10 Zstack-02.czi')"
   ]
  },
  {
   "cell_type": "code",
   "execution_count": null,
   "metadata": {},
   "outputs": [],
   "source": []
  }
 ],
 "metadata": {
  "kernelspec": {
   "display_name": "user_interface_app",
   "language": "python",
   "name": "python3"
  },
  "language_info": {
   "codemirror_mode": {
    "name": "ipython",
    "version": 3
   },
   "file_extension": ".py",
   "mimetype": "text/x-python",
   "name": "python",
   "nbconvert_exporter": "python",
   "pygments_lexer": "ipython3",
   "version": "3.12.0"
  }
 },
 "nbformat": 4,
 "nbformat_minor": 2
}
