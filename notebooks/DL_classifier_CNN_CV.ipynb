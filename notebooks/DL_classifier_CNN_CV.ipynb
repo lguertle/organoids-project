{
 "cells": [
  {
   "cell_type": "markdown",
   "metadata": {},
   "source": [
    "# Uploading libraries"
   ]
  },
  {
   "cell_type": "code",
   "execution_count": 2,
   "metadata": {
    "tags": []
   },
   "outputs": [],
   "source": [
    "# Fundamental libraries\n",
    "\n",
    "import os\n",
    "import random\n",
    "import time\n",
    "import copy\n",
    "\n",
    "# Working libraries\n",
    "import cv2\n",
    "import matplotlib.pyplot as plt\n",
    "import numpy as np\n",
    "import pandas as pd\n",
    "import torch\n",
    "import torch.nn as nn\n",
    "import torch.nn.functional as F\n",
    "import wandb\n",
    "from torch.autograd import Variable\n",
    "from sklearn.metrics import classification_report\n",
    "import torch.utils.data as data\n",
    "import torchvision\n",
    "from torchvision import transforms\n",
    "from PIL import Image\n",
    "from transformers import AutoImageProcessor, ViTImageProcessor, ViTForImageClassification, ViTConfig, ResNetForImageClassification, ResNetConfig, BeitForImageClassification, BeitConfig, BeitImageProcessor, AutoFeatureExtractor\n",
    "import torchvision.transforms.functional as TF\n",
    "from torchvision.io import read_image\n",
    "from torch.utils.data import Dataset, DataLoader\n",
    "from torchvision import transforms, datasets, models\n",
    "import torch.optim as optim\n",
    "from torch.optim import lr_scheduler\n",
    "from sklearn.metrics import f1_score\n",
    "from importlib import reload\n",
    "import utility\n",
    "reload(utility)\n",
    "from utility import load_data, plot_confusion_matrix, plot_average_f1_scores, train_model, get_classification_details, get_hard_disk_path, show_samples, plot_features_importance, visualize_correlation, get_shap\n",
    "\n",
    "# Evaluation\n",
    "from sklearn.metrics import f1_score, confusion_matrix, ConfusionMatrixDisplay"
   ]
  },
  {
   "cell_type": "markdown",
   "metadata": {},
   "source": [
    "# Model Recommendations\n",
    "VGG-16: Despite being relatively deep, VGG-16 can still be effective on smaller datasets, especially when used with transfer learning. Its simplicity and well-understood architecture make it a good starting point.\n",
    "\n",
    "ResNet-50: ResNet models, especially the shallower ones like ResNet-50, are known for their ability to avoid overfitting through the use of residual connections. This can be beneficial for learning from small datasets.\n",
    "\n",
    "MobileNet: Designed for mobile and resource-constrained environments, MobileNets are lightweight and efficient, which can be advantageous when training data is limited.\n",
    "\n",
    "SqueezeNet: This network achieves AlexNet-level accuracy with significantly fewer parameters. Its compact architecture makes it suitable for small datasets and limited computational resources."
   ]
  },
  {
   "cell_type": "markdown",
   "metadata": {},
   "source": [
    "# FILE PATHS on local environment"
   ]
  },
  {
   "cell_type": "markdown",
   "metadata": {},
   "source": [
    "#### Each folder path represent class (label) :\n",
    "\n",
    "**Folder name - calss name : description**\n",
    "\n",
    "0 - 0 class : dead\n",
    "\n",
    "1 - 1 class : empty\n",
    "\n",
    "2 - 2 class : keep0\n",
    "\n",
    "3 - 3 class : keep1\n",
    "\n",
    "4 - 4 class : keep2\n",
    "\n",
    "5 - 5 class : reseed0\n",
    "\n",
    "6 - 6 class : reseed1\n",
    "\n",
    "7 -  7 class : split"
   ]
  },
  {
   "cell_type": "code",
   "execution_count": 23,
   "metadata": {
    "tags": []
   },
   "outputs": [],
   "source": [
    "# paths for data upload\n",
    "FILE_PATH = \"D:/data_for_DL_CV/\"\n",
    "TRAIN_FEATURES_PATH_0 = FILE_PATH + 'dead' \n",
    "TRAIN_FEATURES_PATH_1 = FILE_PATH + 'empty'\n",
    "TRAIN_FEATURES_PATH_2 = FILE_PATH + 'keep0'\n",
    "TRAIN_FEATURES_PATH_3 = FILE_PATH + 'keep1'\n",
    "TRAIN_FEATURES_PATH_4 = FILE_PATH + 'keep2'\n",
    "TRAIN_FEATURES_PATH_5 = FILE_PATH + 'reseed0'\n",
    "TRAIN_FEATURES_PATH_6 = FILE_PATH + 'reseed1'\n",
    "TRAIN_FEATURES_PATH_7 = FILE_PATH + 'split'\n",
    "\n",
    "# list with pathe\n",
    "PATHES_LIST = [TRAIN_FEATURES_PATH_0,TRAIN_FEATURES_PATH_1,TRAIN_FEATURES_PATH_2,TRAIN_FEATURES_PATH_3,TRAIN_FEATURES_PATH_4, TRAIN_FEATURES_PATH_5, TRAIN_FEATURES_PATH_6, TRAIN_FEATURES_PATH_7]"
   ]
  },
  {
   "cell_type": "markdown",
   "metadata": {},
   "source": [
    "# Data set : train & test"
   ]
  },
  {
   "cell_type": "markdown",
   "metadata": {},
   "source": [
    "The data was divided into training and testing sets for each class, with a split of 80% for training and 20% for testing, maintaining the same ratio for each class. However, the dataset exhibits an imbalance issue, with one class having a significantly larger number of samples compared to the other class."
   ]
  },
  {
   "cell_type": "code",
   "execution_count": 24,
   "metadata": {
    "tags": []
   },
   "outputs": [
    {
     "name": "stdout",
     "output_type": "stream",
     "text": [
      "D:/data_for_DL_CV/dead\n",
      "D:/data_for_DL_CV/empty\n",
      "D:/data_for_DL_CV/keep0\n",
      "D:/data_for_DL_CV/keep1\n",
      "D:/data_for_DL_CV/keep2\n",
      "D:/data_for_DL_CV/reseed0\n",
      "D:/data_for_DL_CV/reseed1\n",
      "D:/data_for_DL_CV/split\n"
     ]
    }
   ],
   "source": [
    "labels = ['dead', 'empty', 'keep0', 'keep1', 'keep2', 'reseed0', 'reseed1', 'split']\n",
    "for i, path in enumerate(PATHES_LIST):\n",
    "    print(path)"
   ]
  },
  {
   "cell_type": "code",
   "execution_count": 25,
   "metadata": {
    "tags": []
   },
   "outputs": [],
   "source": [
    "class CustomImageDataset_train(Dataset):\n",
    "    def __init__(self, img_paths, img_labels, transform=None, model_name=None):\n",
    "        self.img_sort = img_paths\n",
    "        self.img_labels = img_labels\n",
    "        self.transform = transform\n",
    "        self.processor = None\n",
    "\n",
    "        # Load the processor if a model name is given\n",
    "        if model_name == \"microsoft/resnet-50\":\n",
    "            self.processor = AutoImageProcessor.from_pretrained(model_name)\n",
    "        if model_name == \"microsoft/resnet-18\":\n",
    "            self.processor = AutoFeatureExtractor.from_pretrained(model_name)\n",
    "        if model_name == \"microsoft/beit-base-patch16-224-pt22k-ft22k\":\n",
    "            self.processor = BeitImageProcessor.from_pretrained(model_name)\n",
    "        if model_name == \"google/vit-base-patch16-224\":\n",
    "            self.processor = ViTImageProcessor.from_pretrained(model_name)\n",
    "\n",
    "        self.original_len = len(self.img_sort)\n",
    "\n",
    "    def __len__(self):\n",
    "        return self.original_len * 8\n",
    "\n",
    "    def __getitem__(self, idx):\n",
    "        original_idx = idx % self.original_len\n",
    "        augmentation_index = idx // self.original_len\n",
    "\n",
    "        # Now, original_idx corresponds to the actual image index in your dataset\n",
    "        img_path = self.img_sort[original_idx]\n",
    "        try:\n",
    "            image = read_image(img_path).float()\n",
    "        except Exception as e:\n",
    "            print(f\"Error reading image {img_path}: {e}\")\n",
    "            # Handle error (e.g., by skipping this sample or using a default image)\n",
    "\n",
    "        label = torch.tensor(self.img_labels[original_idx], dtype=torch.long)\n",
    "\n",
    "        if image.shape[0] == 1:\n",
    "            image = image.repeat(3, 1, 1)\n",
    "\n",
    "        if self.transform:\n",
    "            image = self.transform(image)\n",
    "\n",
    "        image = self.augmentation(image, augmentation_index)\n",
    "\n",
    "        if self.processor:\n",
    "            image = self.processor(images=image, return_tensors=\"pt\").pixel_values.squeeze()\n",
    "\n",
    "        return image, label\n",
    "        \n",
    "    def augmentation(self, image, augmentation_index):\n",
    "        # Random horizontal flipping\n",
    "        flip_type = augmentation_index % 2  # 0 for horizontal, 1 for vertical\n",
    "        rotation = (augmentation_index // 2) * 90  # Will give 0, 90, 180, 270\n",
    "\n",
    "        # Apply flip\n",
    "        if flip_type == 0:\n",
    "            image = TF.hflip(image)\n",
    "        else:\n",
    "            image = TF.vflip(image)\n",
    "\n",
    "        # Apply rotation\n",
    "        image = TF.rotate(image, rotation)\n",
    "\n",
    "        return image"
   ]
  },
  {
   "cell_type": "markdown",
   "metadata": {},
   "source": [
    "### Separate data to train and test data with ratio 0.8 in test data"
   ]
  },
  {
   "cell_type": "markdown",
   "metadata": {},
   "source": [
    "To utilize the CustomImageDataset_test and CustomImageDataset_train, it is necessary to specify the desired transformations for each case, such as Normalize and CenterCrop.\n",
    "\n",
    "The following code demonstrates how to define the transformations:\n",
    "\n",
    "For test data transformation using CenterCrop:"
   ]
  },
  {
   "cell_type": "code",
   "execution_count": 26,
   "metadata": {
    "tags": []
   },
   "outputs": [],
   "source": [
    "class CustomImageDataset_test(Dataset):\n",
    "    def __init__(self, img_paths, img_labels, transform=None, model_name=None):\n",
    "        self.img_sort = img_paths   # List of image paths\n",
    "        self.img_labels = img_labels # Corresponding labels for each image\n",
    "        self.transform = transform\n",
    "        self.processor = None\n",
    "\n",
    "        # Load the processor if a model name is given\n",
    "        if model_name == \"microsoft/resnet-50\":\n",
    "            self.processor = AutoImageProcessor.from_pretrained(model_name)\n",
    "        if model_name == \"microsoft/resnet-18\":\n",
    "            self.processor = AutoFeatureExtractor.from_pretrained(model_name)\n",
    "        if model_name == \"microsoft/beit-base-patch16-224-pt22k-ft22k\":\n",
    "            self.processor = BeitImageProcessor.from_pretrained(model_name)\n",
    "        if model_name == \"google/vit-base-patch16-224\":\n",
    "            self.processor = ViTImageProcessor.from_pretrained(model_name)\n",
    "        \n",
    "        self.len = len(self.img_sort)\n",
    "\n",
    "    def __len__(self):\n",
    "        return self.len\n",
    "\n",
    "    def __getitem__(self, idx):\n",
    "        img_path = self.img_sort[idx]\n",
    "        try:\n",
    "            image = read_image(img_path).float()\n",
    "        except Exception as e:\n",
    "            print(f\"Error reading image {img_path}: {e}\")\n",
    "            # Handle error (e.g., by skipping this sample or using a default image)\n",
    "\n",
    "        label = torch.tensor(self.img_labels[idx], dtype=torch.long)\n",
    "\n",
    "        if image.shape[0] == 1:\n",
    "            image = image.repeat(3, 1, 1)\n",
    "\n",
    "        if self.transform:\n",
    "            image = self.transform(image)\n",
    "\n",
    "        if self.processor:\n",
    "            image = self.processor(images=image, return_tensors=\"pt\").pixel_values.squeeze()\n",
    "\n",
    "        return image, label"
   ]
  },
  {
   "cell_type": "code",
   "execution_count": 27,
   "metadata": {
    "tags": []
   },
   "outputs": [
    {
     "data": {
      "text/html": [
       "Finishing last run (ID:b4jm5svl) before initializing another..."
      ],
      "text/plain": [
       "<IPython.core.display.HTML object>"
      ]
     },
     "metadata": {},
     "output_type": "display_data"
    },
    {
     "data": {
      "text/html": [
       "Waiting for W&B process to finish... <strong style=\"color:green\">(success).</strong>"
      ],
      "text/plain": [
       "<IPython.core.display.HTML object>"
      ]
     },
     "metadata": {},
     "output_type": "display_data"
    },
    {
     "data": {
      "application/vnd.jupyter.widget-view+json": {
       "model_id": "b4b778a3401144069442c480d0530c54",
       "version_major": 2,
       "version_minor": 0
      },
      "text/plain": [
       "VBox(children=(Label(value='0.001 MB of 0.001 MB uploaded (0.000 MB deduped)\\r'), FloatProgress(value=1.0, max…"
      ]
     },
     "metadata": {},
     "output_type": "display_data"
    },
    {
     "data": {
      "text/html": [
       " View run <strong style=\"color:#cdcd00\">visionary-gorge-108</strong> at: <a href='https://wandb.ai/laurent-gurtler/organoid_classification/runs/b4jm5svl' target=\"_blank\">https://wandb.ai/laurent-gurtler/organoid_classification/runs/b4jm5svl</a><br/>Synced 5 W&B file(s), 0 media file(s), 0 artifact file(s) and 0 other file(s)"
      ],
      "text/plain": [
       "<IPython.core.display.HTML object>"
      ]
     },
     "metadata": {},
     "output_type": "display_data"
    },
    {
     "data": {
      "text/html": [
       "Find logs at: <code>.\\wandb\\run-20231123_145441-b4jm5svl\\logs</code>"
      ],
      "text/plain": [
       "<IPython.core.display.HTML object>"
      ]
     },
     "metadata": {},
     "output_type": "display_data"
    },
    {
     "data": {
      "text/html": [
       "Successfully finished last run (ID:b4jm5svl). Initializing new run:<br/>"
      ],
      "text/plain": [
       "<IPython.core.display.HTML object>"
      ]
     },
     "metadata": {},
     "output_type": "display_data"
    },
    {
     "data": {
      "application/vnd.jupyter.widget-view+json": {
       "model_id": "18c51571d84c4d0cafaa8bc284967a95",
       "version_major": 2,
       "version_minor": 0
      },
      "text/plain": [
       "VBox(children=(Label(value='Waiting for wandb.init()...\\r'), FloatProgress(value=0.011111111111111112, max=1.0…"
      ]
     },
     "metadata": {},
     "output_type": "display_data"
    },
    {
     "data": {
      "text/html": [
       "wandb version 0.16.0 is available!  To upgrade, please run:\n",
       " $ pip install wandb --upgrade"
      ],
      "text/plain": [
       "<IPython.core.display.HTML object>"
      ]
     },
     "metadata": {},
     "output_type": "display_data"
    },
    {
     "data": {
      "text/html": [
       "Tracking run with wandb version 0.15.12"
      ],
      "text/plain": [
       "<IPython.core.display.HTML object>"
      ]
     },
     "metadata": {},
     "output_type": "display_data"
    },
    {
     "data": {
      "text/html": [
       "Run data is saved locally in <code>c:\\Users\\lguertle\\organoids-project\\notebooks\\wandb\\run-20231123_161330-va7vausc</code>"
      ],
      "text/plain": [
       "<IPython.core.display.HTML object>"
      ]
     },
     "metadata": {},
     "output_type": "display_data"
    },
    {
     "data": {
      "text/html": [
       "Syncing run <strong><a href='https://wandb.ai/laurent-gurtler/organoid_classification/runs/va7vausc' target=\"_blank\">happy-tree-109</a></strong> to <a href='https://wandb.ai/laurent-gurtler/organoid_classification' target=\"_blank\">Weights & Biases</a> (<a href='https://wandb.me/run' target=\"_blank\">docs</a>)<br/>"
      ],
      "text/plain": [
       "<IPython.core.display.HTML object>"
      ]
     },
     "metadata": {},
     "output_type": "display_data"
    },
    {
     "data": {
      "text/html": [
       " View project at <a href='https://wandb.ai/laurent-gurtler/organoid_classification' target=\"_blank\">https://wandb.ai/laurent-gurtler/organoid_classification</a>"
      ],
      "text/plain": [
       "<IPython.core.display.HTML object>"
      ]
     },
     "metadata": {},
     "output_type": "display_data"
    },
    {
     "data": {
      "text/html": [
       " View run at <a href='https://wandb.ai/laurent-gurtler/organoid_classification/runs/va7vausc' target=\"_blank\">https://wandb.ai/laurent-gurtler/organoid_classification/runs/va7vausc</a>"
      ],
      "text/plain": [
       "<IPython.core.display.HTML object>"
      ]
     },
     "metadata": {},
     "output_type": "display_data"
    },
    {
     "name": "stdout",
     "output_type": "stream",
     "text": [
      "Training on fold 1/5\n"
     ]
    },
    {
     "name": "stderr",
     "output_type": "stream",
     "text": [
      "Could not find image processor class in the image processor config or the model config. Loading based on pattern matching with the model's feature extractor configuration.\n",
      "Could not find image processor class in the image processor config or the model config. Loading based on pattern matching with the model's feature extractor configuration.\n"
     ]
    },
    {
     "name": "stdout",
     "output_type": "stream",
     "text": [
      "cuda\n",
      "64\n"
     ]
    },
    {
     "data": {
      "image/png": "[encoded data removed]",
      "text/plain": [
       "<Figure size 640x480 with 1 Axes>"
      ]
     },
     "metadata": {},
     "output_type": "display_data"
    },
    {
     "name": "stdout",
     "output_type": "stream",
     "text": [
      "Mean: [0.         0.         0.00462112]\n",
      "Standard Deviation: [0.         0.         0.01377867]\n",
      "Minimum Value: [0. 0. 0.]\n",
      "Maximum Value: [0.         0.         0.14762534]\n"
     ]
    },
    {
     "ename": "KeyboardInterrupt",
     "evalue": "",
     "output_type": "error",
     "traceback": [
      "\u001b[1;31m---------------------------------------------------------------------------\u001b[0m",
      "\u001b[1;31mKeyboardInterrupt\u001b[0m                         Traceback (most recent call last)",
      "\u001b[1;32mc:\\Users\\lguertle\\organoids-project\\notebooks\\DL_classifier_CNN_CV.ipynb Cell 14\u001b[0m line \u001b[0;36m9\n\u001b[0;32m     <a href='vscode-notebook-cell:/c%3A/Users/lguertle/organoids-project/notebooks/DL_classifier_CNN_CV.ipynb#X16sZmlsZQ%3D%3D?line=90'>91</a>\u001b[0m model\u001b[39m.\u001b[39mtrain()\n\u001b[0;32m     <a href='vscode-notebook-cell:/c%3A/Users/lguertle/organoids-project/notebooks/DL_classifier_CNN_CV.ipynb#X16sZmlsZQ%3D%3D?line=91'>92</a>\u001b[0m running_loss \u001b[39m=\u001b[39m \u001b[39m0.0\u001b[39m\n\u001b[1;32m---> <a href='vscode-notebook-cell:/c%3A/Users/lguertle/organoids-project/notebooks/DL_classifier_CNN_CV.ipynb#X16sZmlsZQ%3D%3D?line=92'>93</a>\u001b[0m \u001b[39mfor\u001b[39;00m images, labels \u001b[39min\u001b[39;00m train_loader:\n\u001b[0;32m     <a href='vscode-notebook-cell:/c%3A/Users/lguertle/organoids-project/notebooks/DL_classifier_CNN_CV.ipynb#X16sZmlsZQ%3D%3D?line=93'>94</a>\u001b[0m     \u001b[39mprint\u001b[39m(\u001b[39mlen\u001b[39m(images))\n\u001b[0;32m     <a href='vscode-notebook-cell:/c%3A/Users/lguertle/organoids-project/notebooks/DL_classifier_CNN_CV.ipynb#X16sZmlsZQ%3D%3D?line=94'>95</a>\u001b[0m     \u001b[39mif\u001b[39;00m num_images_displayed \u001b[39m<\u001b[39m \u001b[39m5\u001b[39m:  \u001b[39m# Change 5 to however many batches you want to visualize\u001b[39;00m\n",
      "File \u001b[1;32mc:\\Users\\lguertle\\AppData\\Local\\anaconda3\\envs\\organoids-project\\Lib\\site-packages\\torch\\utils\\data\\dataloader.py:630\u001b[0m, in \u001b[0;36m_BaseDataLoaderIter.__next__\u001b[1;34m(self)\u001b[0m\n\u001b[0;32m    627\u001b[0m \u001b[39mif\u001b[39;00m \u001b[39mself\u001b[39m\u001b[39m.\u001b[39m_sampler_iter \u001b[39mis\u001b[39;00m \u001b[39mNone\u001b[39;00m:\n\u001b[0;32m    628\u001b[0m     \u001b[39m# TODO(https://github.com/pytorch/pytorch/issues/76750)\u001b[39;00m\n\u001b[0;32m    629\u001b[0m     \u001b[39mself\u001b[39m\u001b[39m.\u001b[39m_reset()  \u001b[39m# type: ignore[call-arg]\u001b[39;00m\n\u001b[1;32m--> 630\u001b[0m data \u001b[39m=\u001b[39m \u001b[39mself\u001b[39;49m\u001b[39m.\u001b[39;49m_next_data()\n\u001b[0;32m    631\u001b[0m \u001b[39mself\u001b[39m\u001b[39m.\u001b[39m_num_yielded \u001b[39m+\u001b[39m\u001b[39m=\u001b[39m \u001b[39m1\u001b[39m\n\u001b[0;32m    632\u001b[0m \u001b[39mif\u001b[39;00m \u001b[39mself\u001b[39m\u001b[39m.\u001b[39m_dataset_kind \u001b[39m==\u001b[39m _DatasetKind\u001b[39m.\u001b[39mIterable \u001b[39mand\u001b[39;00m \\\n\u001b[0;32m    633\u001b[0m         \u001b[39mself\u001b[39m\u001b[39m.\u001b[39m_IterableDataset_len_called \u001b[39mis\u001b[39;00m \u001b[39mnot\u001b[39;00m \u001b[39mNone\u001b[39;00m \u001b[39mand\u001b[39;00m \\\n\u001b[0;32m    634\u001b[0m         \u001b[39mself\u001b[39m\u001b[39m.\u001b[39m_num_yielded \u001b[39m>\u001b[39m \u001b[39mself\u001b[39m\u001b[39m.\u001b[39m_IterableDataset_len_called:\n",
      "File \u001b[1;32mc:\\Users\\lguertle\\AppData\\Local\\anaconda3\\envs\\organoids-project\\Lib\\site-packages\\torch\\utils\\data\\dataloader.py:674\u001b[0m, in \u001b[0;36m_SingleProcessDataLoaderIter._next_data\u001b[1;34m(self)\u001b[0m\n\u001b[0;32m    672\u001b[0m \u001b[39mdef\u001b[39;00m \u001b[39m_next_data\u001b[39m(\u001b[39mself\u001b[39m):\n\u001b[0;32m    673\u001b[0m     index \u001b[39m=\u001b[39m \u001b[39mself\u001b[39m\u001b[39m.\u001b[39m_next_index()  \u001b[39m# may raise StopIteration\u001b[39;00m\n\u001b[1;32m--> 674\u001b[0m     data \u001b[39m=\u001b[39m \u001b[39mself\u001b[39;49m\u001b[39m.\u001b[39;49m_dataset_fetcher\u001b[39m.\u001b[39;49mfetch(index)  \u001b[39m# may raise StopIteration\u001b[39;00m\n\u001b[0;32m    675\u001b[0m     \u001b[39mif\u001b[39;00m \u001b[39mself\u001b[39m\u001b[39m.\u001b[39m_pin_memory:\n\u001b[0;32m    676\u001b[0m         data \u001b[39m=\u001b[39m _utils\u001b[39m.\u001b[39mpin_memory\u001b[39m.\u001b[39mpin_memory(data, \u001b[39mself\u001b[39m\u001b[39m.\u001b[39m_pin_memory_device)\n",
      "File \u001b[1;32mc:\\Users\\lguertle\\AppData\\Local\\anaconda3\\envs\\organoids-project\\Lib\\site-packages\\torch\\utils\\data\\_utils\\fetch.py:51\u001b[0m, in \u001b[0;36m_MapDatasetFetcher.fetch\u001b[1;34m(self, possibly_batched_index)\u001b[0m\n\u001b[0;32m     49\u001b[0m         data \u001b[39m=\u001b[39m \u001b[39mself\u001b[39m\u001b[39m.\u001b[39mdataset\u001b[39m.\u001b[39m__getitems__(possibly_batched_index)\n\u001b[0;32m     50\u001b[0m     \u001b[39melse\u001b[39;00m:\n\u001b[1;32m---> 51\u001b[0m         data \u001b[39m=\u001b[39m [\u001b[39mself\u001b[39;49m\u001b[39m.\u001b[39;49mdataset[idx] \u001b[39mfor\u001b[39;49;00m idx \u001b[39min\u001b[39;49;00m possibly_batched_index]\n\u001b[0;32m     52\u001b[0m \u001b[39melse\u001b[39;00m:\n\u001b[0;32m     53\u001b[0m     data \u001b[39m=\u001b[39m \u001b[39mself\u001b[39m\u001b[39m.\u001b[39mdataset[possibly_batched_index]\n",
      "File \u001b[1;32mc:\\Users\\lguertle\\AppData\\Local\\anaconda3\\envs\\organoids-project\\Lib\\site-packages\\torch\\utils\\data\\_utils\\fetch.py:51\u001b[0m, in \u001b[0;36m<listcomp>\u001b[1;34m(.0)\u001b[0m\n\u001b[0;32m     49\u001b[0m         data \u001b[39m=\u001b[39m \u001b[39mself\u001b[39m\u001b[39m.\u001b[39mdataset\u001b[39m.\u001b[39m__getitems__(possibly_batched_index)\n\u001b[0;32m     50\u001b[0m     \u001b[39melse\u001b[39;00m:\n\u001b[1;32m---> 51\u001b[0m         data \u001b[39m=\u001b[39m [\u001b[39mself\u001b[39;49m\u001b[39m.\u001b[39;49mdataset[idx] \u001b[39mfor\u001b[39;00m idx \u001b[39min\u001b[39;00m possibly_batched_index]\n\u001b[0;32m     52\u001b[0m \u001b[39melse\u001b[39;00m:\n\u001b[0;32m     53\u001b[0m     data \u001b[39m=\u001b[39m \u001b[39mself\u001b[39m\u001b[39m.\u001b[39mdataset[possibly_batched_index]\n",
      "\u001b[1;32mc:\\Users\\lguertle\\organoids-project\\notebooks\\DL_classifier_CNN_CV.ipynb Cell 14\u001b[0m line \u001b[0;36m4\n\u001b[0;32m     <a href='vscode-notebook-cell:/c%3A/Users/lguertle/organoids-project/notebooks/DL_classifier_CNN_CV.ipynb#X16sZmlsZQ%3D%3D?line=39'>40</a>\u001b[0m \u001b[39mif\u001b[39;00m \u001b[39mself\u001b[39m\u001b[39m.\u001b[39mtransform:\n\u001b[0;32m     <a href='vscode-notebook-cell:/c%3A/Users/lguertle/organoids-project/notebooks/DL_classifier_CNN_CV.ipynb#X16sZmlsZQ%3D%3D?line=40'>41</a>\u001b[0m     image \u001b[39m=\u001b[39m \u001b[39mself\u001b[39m\u001b[39m.\u001b[39mtransform(image)\n\u001b[1;32m---> <a href='vscode-notebook-cell:/c%3A/Users/lguertle/organoids-project/notebooks/DL_classifier_CNN_CV.ipynb#X16sZmlsZQ%3D%3D?line=42'>43</a>\u001b[0m image \u001b[39m=\u001b[39m \u001b[39mself\u001b[39;49m\u001b[39m.\u001b[39;49maugmentation(image, augmentation_index)\n\u001b[0;32m     <a href='vscode-notebook-cell:/c%3A/Users/lguertle/organoids-project/notebooks/DL_classifier_CNN_CV.ipynb#X16sZmlsZQ%3D%3D?line=44'>45</a>\u001b[0m \u001b[39mif\u001b[39;00m \u001b[39mself\u001b[39m\u001b[39m.\u001b[39mprocessor:\n\u001b[0;32m     <a href='vscode-notebook-cell:/c%3A/Users/lguertle/organoids-project/notebooks/DL_classifier_CNN_CV.ipynb#X16sZmlsZQ%3D%3D?line=45'>46</a>\u001b[0m     image \u001b[39m=\u001b[39m \u001b[39mself\u001b[39m\u001b[39m.\u001b[39mprocessor(images\u001b[39m=\u001b[39mimage, return_tensors\u001b[39m=\u001b[39m\u001b[39m\"\u001b[39m\u001b[39mpt\u001b[39m\u001b[39m\"\u001b[39m)\u001b[39m.\u001b[39mpixel_values\u001b[39m.\u001b[39msqueeze()\n",
      "\u001b[1;32mc:\\Users\\lguertle\\organoids-project\\notebooks\\DL_classifier_CNN_CV.ipynb Cell 14\u001b[0m line \u001b[0;36m5\n\u001b[0;32m     <a href='vscode-notebook-cell:/c%3A/Users/lguertle/organoids-project/notebooks/DL_classifier_CNN_CV.ipynb#X16sZmlsZQ%3D%3D?line=54'>55</a>\u001b[0m \u001b[39m# Apply flip\u001b[39;00m\n\u001b[0;32m     <a href='vscode-notebook-cell:/c%3A/Users/lguertle/organoids-project/notebooks/DL_classifier_CNN_CV.ipynb#X16sZmlsZQ%3D%3D?line=55'>56</a>\u001b[0m \u001b[39mif\u001b[39;00m flip_type \u001b[39m==\u001b[39m \u001b[39m0\u001b[39m:\n\u001b[1;32m---> <a href='vscode-notebook-cell:/c%3A/Users/lguertle/organoids-project/notebooks/DL_classifier_CNN_CV.ipynb#X16sZmlsZQ%3D%3D?line=56'>57</a>\u001b[0m     image \u001b[39m=\u001b[39m TF\u001b[39m.\u001b[39;49mhflip(image)\n\u001b[0;32m     <a href='vscode-notebook-cell:/c%3A/Users/lguertle/organoids-project/notebooks/DL_classifier_CNN_CV.ipynb#X16sZmlsZQ%3D%3D?line=57'>58</a>\u001b[0m \u001b[39melse\u001b[39;00m:\n\u001b[0;32m     <a href='vscode-notebook-cell:/c%3A/Users/lguertle/organoids-project/notebooks/DL_classifier_CNN_CV.ipynb#X16sZmlsZQ%3D%3D?line=58'>59</a>\u001b[0m     image \u001b[39m=\u001b[39m TF\u001b[39m.\u001b[39mvflip(image)\n",
      "File \u001b[1;32mc:\\Users\\lguertle\\AppData\\Local\\anaconda3\\envs\\organoids-project\\Lib\\site-packages\\torchvision\\transforms\\functional.py:684\u001b[0m, in \u001b[0;36mhflip\u001b[1;34m(img)\u001b[0m\n\u001b[0;32m    681\u001b[0m \u001b[39mif\u001b[39;00m \u001b[39mnot\u001b[39;00m \u001b[39misinstance\u001b[39m(img, torch\u001b[39m.\u001b[39mTensor):\n\u001b[0;32m    682\u001b[0m     \u001b[39mreturn\u001b[39;00m F_pil\u001b[39m.\u001b[39mhflip(img)\n\u001b[1;32m--> 684\u001b[0m \u001b[39mreturn\u001b[39;00m F_t\u001b[39m.\u001b[39;49mhflip(img)\n",
      "File \u001b[1;32mc:\\Users\\lguertle\\AppData\\Local\\anaconda3\\envs\\organoids-project\\Lib\\site-packages\\torchvision\\transforms\\_functional_tensor.py:125\u001b[0m, in \u001b[0;36mhflip\u001b[1;34m(img)\u001b[0m\n\u001b[0;32m    122\u001b[0m \u001b[39mdef\u001b[39;00m \u001b[39mhflip\u001b[39m(img: Tensor) \u001b[39m-\u001b[39m\u001b[39m>\u001b[39m Tensor:\n\u001b[0;32m    123\u001b[0m     _assert_image_tensor(img)\n\u001b[1;32m--> 125\u001b[0m     \u001b[39mreturn\u001b[39;00m img\u001b[39m.\u001b[39;49mflip(\u001b[39m-\u001b[39;49m\u001b[39m1\u001b[39;49m)\n",
      "\u001b[1;31mKeyboardInterrupt\u001b[0m: "
     ]
    }
   ],
   "source": [
    "import torch\n",
    "import wandb\n",
    "from sklearn.metrics import f1_score\n",
    "from torch.utils.data import DataLoader\n",
    "from sklearn.model_selection import StratifiedKFold\n",
    "import csv\n",
    "\n",
    "model_names = [\"microsoft/resnet-50\", \"microsoft/resnet-18\", \"microsoft/beit-base-patch16-224-pt22k-ft22k\", \"google/vit-base-patch16-224\"]\n",
    "\n",
    "for model_name in model_names:\n",
    "    # Initialize a new wandb run\n",
    "    wandb.init(project=\"organoid_classification\", entity=\"laurent-gurtler\")\n",
    "\n",
    "    num_epochs = 30\n",
    "    learning_rate = 5e-5\n",
    "    batch_size = 64\n",
    "    k_folds = 5\n",
    "    weight_decay = 1e-5\n",
    "\n",
    "    config = wandb.config\n",
    "    config.learning_rate = learning_rate\n",
    "    config.batch_size = batch_size\n",
    "    config.num_epochs = num_epochs\n",
    "    config.k_folds = k_folds\n",
    "    config.weight_decay = weight_decay\n",
    "\n",
    "\n",
    "    all_labels_list = ['dead', 'empty', 'keep0', 'keep1', 'keep2', 'reseed0', 'reseed1', 'split']\n",
    "\n",
    "    all_fold_f1_scores = []\n",
    "    num_labels = len(all_labels_list)  # The number of unique labels/classes in your dataset\n",
    "\n",
    "    # Assuming PATHES_LIST contains paths to your different class directories\n",
    "    img_labels = []\n",
    "    img_sort = []\n",
    "    for i, img_dir in enumerate(PATHES_LIST):\n",
    "        img_files = sorted([f for f in os.listdir(img_dir) if f.endswith(\".jpg\")])\n",
    "        img_labels.extend([i] * len(img_files))  # Labels for each image\n",
    "        img_sort.extend([os.path.join(img_dir, f) for f in img_files])  # Paths for each image\n",
    "\n",
    "    # Convert img_sort to a numpy array for easier indexing\n",
    "    img_sort = np.array(img_sort)\n",
    "\n",
    "    # Initialize StratifiedKFold\n",
    "    kf = StratifiedKFold(n_splits=k_folds, shuffle=True, random_state=42)\n",
    "\n",
    "    # Convert img_labels to numpy array for StratifiedKFold\n",
    "    img_labels = np.array(img_labels)\n",
    "\n",
    "    for fold, (train_idx, val_idx) in enumerate(kf.split(img_sort, img_labels)):\n",
    "        print(f\"Training on fold {fold+1}/{k_folds}\")\n",
    "        if \"beit\" in model_name:\n",
    "            config = BeitConfig.from_pretrained(model_name, num_labels=num_labels)\n",
    "            model = BeitForImageClassification(config)\n",
    "        elif \"resnet\" in model_name:\n",
    "            config = ResNetConfig.from_pretrained(model_name, num_labels=num_labels)\n",
    "            model = ResNetForImageClassification(config)\n",
    "        elif \"vit\" in model_name:\n",
    "            config = ViTConfig.from_pretrained(model_name, num_labels=num_labels)\n",
    "            model = ViTForImageClassification(config)\n",
    "        criterion = torch.nn.CrossEntropyLoss()\n",
    "        optimizer = optim.Adam(model.parameters(), lr=learning_rate, weight_decay=weight_decay)\n",
    "\n",
    "        # Split data into training and validation for this fold\n",
    "        train_data = img_sort[train_idx]\n",
    "        val_data = img_sort[val_idx]\n",
    "\n",
    "        # Create datasets for this fold\n",
    "        train_dataset = CustomImageDataset_train(train_data, img_labels[train_idx], \n",
    "                                                transform=False, \n",
    "                                                model_name=model_name)\n",
    "        test_dataset = CustomImageDataset_test(val_data, img_labels[val_idx], \n",
    "                                            transform=False, \n",
    "                                            model_name=model_name)\n",
    "        \n",
    "\n",
    "        test_loader = DataLoader(test_dataset, batch_size=batch_size, shuffle=False)\n",
    "        train_loader = DataLoader(train_dataset, batch_size=batch_size, shuffle=True)\n",
    "\n",
    "        device = torch.device(\"cuda\" if torch.cuda.is_available() else \"cpu\")\n",
    "        print(device)\n",
    "        model.to(device)\n",
    "\n",
    "        wandb.watch(model, criterion, log=\"all\", log_freq=10)\n",
    "\n",
    "        epoch_f1_scores_dict_list = []\n",
    "\n",
    "        num_images_displayed = 0\n",
    "\n",
    "        for epoch in range(num_epochs):\n",
    "            model.train()\n",
    "            running_loss = 0.0\n",
    "            for images, labels in train_loader:\n",
    "                images = images.to(device)\n",
    "                labels = labels.to(device)  # Convert labels to torch.long\n",
    "                optimizer.zero_grad()\n",
    "                outputs = model(images).logits\n",
    "                loss = criterion(outputs, labels)\n",
    "                loss.backward()\n",
    "                optimizer.step()\n",
    "                running_loss += loss.item()\n",
    "            \n",
    "            wandb.log({\"fold\": fold+1, \"epoch\": epoch, \"train_loss\": running_loss/len(train_loader)})\n",
    "\n",
    "            # Validation phase\n",
    "            model.eval()\n",
    "            all_labels = []\n",
    "            all_predictions = []\n",
    "            validation_loss = 0.0\n",
    "            correct = 0\n",
    "            total = 0\n",
    "\n",
    "            with torch.no_grad():\n",
    "                for images, labels in test_loader:\n",
    "                    images = images.to(device)\n",
    "                    labels = labels.to(device)\n",
    "                    outputs = model(images).logits\n",
    "                    predicted = outputs.argmax(dim=1)\n",
    "                    total += labels.size(0)\n",
    "                    correct += (predicted == labels).sum().item()\n",
    "                    loss = criterion(outputs, labels)\n",
    "                    validation_loss += loss.item()\n",
    "\n",
    "                    # Move the labels and predictions to CPU for sklearn metrics\n",
    "                    all_labels.extend(labels.cpu().numpy())\n",
    "                    all_predictions.extend(predicted.cpu().numpy())\n",
    "\n",
    "            # Calculate accuracy and F1 score\n",
    "            accuracy = 100 * correct / total\n",
    "            f1_scores = f1_score(all_labels, all_predictions, average=None, zero_division=0)  # This will give you an array of F1 scores per class\n",
    "            # Check if the length of F1 scores matches the number of labels\n",
    "            if len(f1_scores) != len(all_labels_list):\n",
    "                print(f\"Warning: Number of F1 scores ({len(f1_scores)}) does not match number of classes ({len(all_labels_list)})\")\n",
    "                # Trim the list of F1 scores to match the number of classes, if necessary\n",
    "                f1_scores = f1_scores[:len(all_labels_list)]\n",
    "\n",
    "            # Create a dictionary of class labels and their corresponding F1 scores\n",
    "            f1_scores_dict = {all_labels_list[idx]: f1 for idx, f1 in enumerate(f1_scores)}\n",
    "            epoch_f1_scores_dict_list.append(f1_scores_dict)\n",
    "\n",
    "            # It might be useful to also get the classification report for all metrics\n",
    "            classification_rep = classification_report(all_labels, all_predictions, output_dict=True, zero_division=0)\n",
    "\n",
    "            # Logging the individual F1 scores\n",
    "            for idx, f1 in enumerate(f1_scores):\n",
    "                wandb.log({f\"class_{idx}_f1_score\": f1})\n",
    "\n",
    "\n",
    "            wandb.log({\"fold\": fold+1, \"epoch\": epoch, \"val_loss\": validation_loss/len(test_loader), \"val_accuracy\": accuracy})\n",
    "\n",
    "            # Print statistics for each class\n",
    "            print(f\"Epoch {epoch+1}, Train Loss: {running_loss/len(train_loader)}, \"\n",
    "                f\"Validation Loss: {validation_loss/len(test_loader)}, Accuracy: {accuracy} %\")\n",
    "            for idx, f1 in enumerate(f1_scores):\n",
    "                print(f\"Class {idx} F1 Score: {f1}\")\n",
    "\n",
    "            for idx, f1 in enumerate(f1_scores):\n",
    "                wandb.log({f\"class_{idx}_f1_score\": f1})\n",
    "\n",
    "        # Access the F1-scores for the last epoch\n",
    "            # Access the F1-scores for the last epoch of this fold\n",
    "        last_epoch_f1_scores = epoch_f1_scores_dict_list[-1]\n",
    "\n",
    "        # Append model name, fold number, and F1 scores to the list\n",
    "        fold_data = {\"model_name\": model_name, \"fold\": fold + 1}\n",
    "        fold_data.update(last_epoch_f1_scores)\n",
    "        all_fold_f1_scores.append(fold_data)\n",
    "\n",
    "        # Clear the epoch_f1_scores_dict_list for the next fold\n",
    "        epoch_f1_scores_dict_list.clear()\n",
    "\n",
    "        # The last_epoch_f1_scores already contains the F1 scores for each class from the last epoch\n",
    "        # Optionally, you can directly plot these scores if needed\n",
    "        plot_average_f1_scores(all_labels_list, last_epoch_f1_scores)\n",
    "\n",
    "\n",
    "        # After the loop, you may want to log the overall performance\n",
    "        wandb.log({\n",
    "            \"fold\": fold+1, \"final_accuracy\": accuracy,\n",
    "            \"fold\": fold+1, \"final_f1_scores\": f1_scores.tolist(),  # Convert to list if necessary\n",
    "            \"fold\": fold+1, \"final_classification_report\": classification_rep\n",
    "        })\n",
    "\n",
    "        csv_filename = FILE_PATH + 'f1_scores_per_fold.csv'\n",
    "        existing_data = []\n",
    "\n",
    "        # Read existing data\n",
    "        if os.path.exists(csv_filename):\n",
    "            with open(csv_filename, 'r') as file:\n",
    "                reader = csv.DictReader(file)\n",
    "                existing_data = [row for row in reader]\n",
    "\n",
    "        # Update or append new data\n",
    "        for new_data in all_fold_f1_scores:\n",
    "            model_found = False\n",
    "            for existing_row in existing_data:\n",
    "                if existing_row['model_name'] == new_data['model_name'] and existing_row['fold'] == str(new_data['fold']):\n",
    "                    # Update existing row with new data\n",
    "                    for key, value in new_data.items():\n",
    "                        existing_row[key] = value\n",
    "                    model_found = True\n",
    "                    break\n",
    "            if not model_found:\n",
    "                # Convert numeric values to strings for CSV writing\n",
    "                new_data_string = {k: str(v) for k, v in new_data.items()}\n",
    "                existing_data.append(new_data_string)\n",
    "\n",
    "        # Write updated data back to CSV\n",
    "        header = ['model_name', 'fold'] + all_labels_list\n",
    "\n",
    "        with open(csv_filename, 'w', newline='') as file:\n",
    "            writer = csv.DictWriter(file, fieldnames=header)\n",
    "            writer.writeheader()\n",
    "            for data_row in existing_data:\n",
    "                writer.writerow(data_row)\n",
    "\n",
    "    # Close the wandb run\n",
    "    wandb.finish()\n"
   ]
  },
  {
   "cell_type": "code",
   "execution_count": null,
   "metadata": {},
   "outputs": [
    {
     "data": {
      "image/png": "[encoded data removed]",
      "text/plain": [
       "<Figure size 1200x600 with 1 Axes>"
      ]
     },
     "metadata": {},
     "output_type": "display_data"
    }
   ],
   "source": [
    "import seaborn as sns\n",
    "\n",
    "df = pd.read_csv(csv_filename)\n",
    "df_long = df.melt(id_vars=['model_name', 'fold'], \n",
    "                  value_vars=all_labels_list,  # list all your label columns here\n",
    "                  var_name='label', value_name='f1_score')\n",
    "# Creating a boxplot for each label within each model\n",
    "plt.figure(figsize=(12, 6))\n",
    "\n",
    "# You might need to adjust the size of the figure based on the number of models and labels\n",
    "sns.boxplot(x='label', y='f1_score', hue='model_name', data=df_long)\n",
    "\n",
    "plt.title('F1 Score Distribution over Folds for Each Label and Model')\n",
    "plt.xlabel('Label')\n",
    "plt.ylabel('F1 Score')\n",
    "plt.legend(title='Model Name')\n",
    "plt.show()"
   ]
  },
  {
   "cell_type": "code",
   "execution_count": null,
   "metadata": {},
   "outputs": [],
   "source": []
  }
 ],
 "metadata": {
  "kernelspec": {
   "display_name": "organoids-project",
   "language": "python",
   "name": "python3"
  },
  "language_info": {
   "codemirror_mode": {
    "name": "ipython",
    "version": 3
   },
   "file_extension": ".py",
   "mimetype": "text/x-python",
   "name": "python",
   "nbconvert_exporter": "python",
   "pygments_lexer": "ipython3",
   "version": "3.11.5"
  }
 },
 "nbformat": 4,
 "nbformat_minor": 4
}
