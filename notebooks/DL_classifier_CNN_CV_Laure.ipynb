{
 "cells": [
  {
   "cell_type": "markdown",
   "metadata": {},
   "source": [
    "# Uploading libraries"
   ]
  },
  {
   "cell_type": "code",
   "execution_count": 1,
   "metadata": {
    "tags": []
   },
   "outputs": [],
   "source": [
    "# Fundamental libraries\n",
    "\n",
    "import os\n",
    "import random\n",
    "import time\n",
    "import copy\n",
    "\n",
    "# Working libraries\n",
    "import cv2\n",
    "import matplotlib.pyplot as plt\n",
    "import numpy as np\n",
    "import pandas as pd\n",
    "import torch\n",
    "import torch.nn as nn\n",
    "import torch.nn.functional as F\n",
    "import wandb\n",
    "from torch.autograd import Variable\n",
    "from sklearn.metrics import classification_report\n",
    "import torch.utils.data as data\n",
    "import torchvision\n",
    "from torchvision import transforms\n",
    "from PIL import Image\n",
    "from transformers import AutoImageProcessor, ViTImageProcessor, ViTForImageClassification, ViTConfig, ResNetForImageClassification, ResNetConfig, BeitForImageClassification, BeitConfig, BeitImageProcessor, AutoFeatureExtractor\n",
    "import torchvision.transforms.functional as TF\n",
    "from torchvision.io import read_image\n",
    "from torch.utils.data import Dataset, DataLoader\n",
    "from torchvision import transforms, datasets, models\n",
    "import torch.optim as optim\n",
    "from torch.optim import lr_scheduler\n",
    "from sklearn.metrics import f1_score\n",
    "from importlib import reload\n",
    "import utility\n",
    "reload(utility)\n",
    "from utility import load_data, plot_confusion_matrix, plot_average_f1_scores, train_model, get_classification_details, get_hard_disk_path, show_samples, plot_features_importance, visualize_correlation, get_shap\n",
    "\n",
    "# Evaluation\n",
    "from sklearn.metrics import f1_score, confusion_matrix, ConfusionMatrixDisplay"
   ]
  },
  {
   "cell_type": "markdown",
   "metadata": {},
   "source": [
    "# Model Recommendations\n",
    "VGG-16: Despite being relatively deep, VGG-16 can still be effective on smaller datasets, especially when used with transfer learning. Its simplicity and well-understood architecture make it a good starting point.\n",
    "\n",
    "ResNet-50: ResNet models, especially the shallower ones like ResNet-50, are known for their ability to avoid overfitting through the use of residual connections. This can be beneficial for learning from small datasets.\n",
    "\n",
    "MobileNet: Designed for mobile and resource-constrained environments, MobileNets are lightweight and efficient, which can be advantageous when training data is limited.\n",
    "\n",
    "SqueezeNet: This network achieves AlexNet-level accuracy with significantly fewer parameters. Its compact architecture makes it suitable for small datasets and limited computational resources."
   ]
  },
  {
   "cell_type": "markdown",
   "metadata": {},
   "source": [
    "# FILE PATHS on local environment"
   ]
  },
  {
   "cell_type": "markdown",
   "metadata": {},
   "source": [
    "#### Each folder path represent class (label) :\n",
    "\n",
    "**Folder name - calss name : description**\n",
    "\n",
    "0 - 0 class : dead\n",
    "\n",
    "1 - 1 class : empty\n",
    "\n",
    "2 - 2 class : keep0\n",
    "\n",
    "3 - 3 class : keep1\n",
    "\n",
    "4 - 4 class : keep2\n",
    "\n",
    "5 - 5 class : reseed0\n",
    "\n",
    "6 - 6 class : reseed1\n",
    "\n",
    "7 -  7 class : split"
   ]
  },
  {
   "cell_type": "code",
   "execution_count": 23,
   "metadata": {
    "tags": []
   },
   "outputs": [
    {
     "name": "stdout",
     "output_type": "stream",
     "text": [
      "Successfully loaded data from E:/mouse_organoids_laure/\n"
     ]
    }
   ],
   "source": [
    "# paths for data upload\n",
    "FILE_PATH = get_hard_disk_path(\"Laure\")\n",
    "TRAIN_FEATURES_PATH_0 = FILE_PATH + 'empty' \n",
    "TRAIN_FEATURES_PATH_1 = FILE_PATH + 'j2'\n",
    "TRAIN_FEATURES_PATH_2 = FILE_PATH + 'j8'\n",
    "\n",
    "# list with pathe\n",
    "PATHES_LIST = [TRAIN_FEATURES_PATH_0,TRAIN_FEATURES_PATH_1,TRAIN_FEATURES_PATH_2]"
   ]
  },
  {
   "cell_type": "markdown",
   "metadata": {},
   "source": [
    "# Data set : train & test"
   ]
  },
  {
   "cell_type": "markdown",
   "metadata": {},
   "source": [
    "The data was divided into training and testing sets for each class, with a split of 80% for training and 20% for testing, maintaining the same ratio for each class. However, the dataset exhibits an imbalance issue, with one class having a significantly larger number of samples compared to the other class."
   ]
  },
  {
   "cell_type": "code",
   "execution_count": 24,
   "metadata": {
    "tags": []
   },
   "outputs": [
    {
     "name": "stdout",
     "output_type": "stream",
     "text": [
      "E:/mouse_organoids_laure/empty\n",
      "E:/mouse_organoids_laure/j2\n",
      "E:/mouse_organoids_laure/j8\n"
     ]
    }
   ],
   "source": [
    "labels = ['dead', 'empty', 'keep0', 'keep1', 'keep2', 'reseed0', 'reseed1', 'split']\n",
    "for i, path in enumerate(PATHES_LIST):\n",
    "    print(path)"
   ]
  },
  {
   "cell_type": "code",
   "execution_count": 25,
   "metadata": {
    "tags": []
   },
   "outputs": [],
   "source": [
    "class CustomImageDataset_train(Dataset):\n",
    "    def __init__(self, img_paths, img_labels, transform=None, model_name=None):\n",
    "        self.img_sort = img_paths\n",
    "        self.img_labels = img_labels\n",
    "        self.transform = transform\n",
    "        self.processor = None\n",
    "\n",
    "        # Load the processor if a model name is given\n",
    "        if model_name == \"microsoft/resnet-50\":\n",
    "            self.processor = AutoImageProcessor.from_pretrained(model_name)\n",
    "        if model_name == \"microsoft/resnet-18\":\n",
    "            self.processor = AutoFeatureExtractor.from_pretrained(model_name)\n",
    "        if model_name == \"microsoft/beit-base-patch16-224-pt22k-ft22k\":\n",
    "            self.processor = BeitImageProcessor.from_pretrained(model_name)\n",
    "        if model_name == \"google/vit-base-patch16-224\":\n",
    "            self.processor = ViTImageProcessor.from_pretrained(model_name)\n",
    "\n",
    "        self.original_len = len(self.img_sort)\n",
    "\n",
    "    def __len__(self):\n",
    "        return self.original_len * 1\n",
    "\n",
    "    def __getitem__(self, idx):\n",
    "        original_idx = idx % self.original_len\n",
    "        augmentation_index = idx // self.original_len\n",
    "\n",
    "        # Now, original_idx corresponds to the actual image index in your dataset\n",
    "        img_path = self.img_sort[original_idx]\n",
    "        try:\n",
    "            # Read the TIFF image\n",
    "            image = Image.open(img_path)\n",
    "            # Convert the image to a NumPy array\n",
    "            image = np.array(image)\n",
    "            # Convert the NumPy array to a PyTorch tensor\n",
    "            image = torch.tensor(image).float()\n",
    "        except Exception as e:\n",
    "            print(f\"Error reading image {img_path}: {e}\")\n",
    "            # Handle error (e.g., by skipping this sample or using a default image)\n",
    "\n",
    "        label = torch.tensor(self.img_labels[original_idx], dtype=torch.long)\n",
    "\n",
    "        if len(image.shape) == 2 or (len(image.shape) == 3 and image.shape[0] == 1):\n",
    "            image = image.repeat(3, 1, 1)  # Replicate the channel to have 3 channels\n",
    "\n",
    "        if self.transform:\n",
    "            image = self.transform(image)\n",
    "\n",
    "        image = self.augmentation(image, augmentation_index)\n",
    "\n",
    "        if self.processor:\n",
    "            image = self.processor(images=image, return_tensors=\"pt\").pixel_values.squeeze()\n",
    "\n",
    "        return image, label\n",
    "        \n",
    "    def augmentation(self, image, augmentation_index):\n",
    "        # Random horizontal flipping\n",
    "        flip_type = augmentation_index % 2  # 0 for horizontal, 1 for vertical\n",
    "        rotation = (augmentation_index // 2) * 90  # Will give 0, 90, 180, 270\n",
    "\n",
    "        # Apply flip\n",
    "        if flip_type == 0:\n",
    "            image = TF.hflip(image)\n",
    "        else:\n",
    "            image = TF.vflip(image)\n",
    "\n",
    "        # Apply rotation\n",
    "        image = TF.rotate(image, rotation)\n",
    "\n",
    "        return image"
   ]
  },
  {
   "cell_type": "markdown",
   "metadata": {},
   "source": [
    "### Separate data to train and test data with ratio 0.8 in test data"
   ]
  },
  {
   "cell_type": "markdown",
   "metadata": {},
   "source": [
    "To utilize the CustomImageDataset_test and CustomImageDataset_train, it is necessary to specify the desired transformations for each case, such as Normalize and CenterCrop.\n",
    "\n",
    "The following code demonstrates how to define the transformations:\n",
    "\n",
    "For test data transformation using CenterCrop:"
   ]
  },
  {
   "cell_type": "code",
   "execution_count": 26,
   "metadata": {
    "tags": []
   },
   "outputs": [],
   "source": [
    "class CustomImageDataset_test(Dataset):\n",
    "    def __init__(self, img_paths, img_labels, transform=None, model_name=None):\n",
    "        self.img_sort = img_paths   # List of image paths\n",
    "        self.img_labels = img_labels # Corresponding labels for each image\n",
    "        self.transform = transform\n",
    "        self.processor = None\n",
    "\n",
    "        # Load the processor if a model name is given\n",
    "        if model_name == \"microsoft/resnet-50\":\n",
    "            self.processor = AutoImageProcessor.from_pretrained(model_name)\n",
    "        if model_name == \"microsoft/resnet-18\":\n",
    "            self.processor = AutoFeatureExtractor.from_pretrained(model_name)\n",
    "        if model_name == \"microsoft/beit-base-patch16-224-pt22k-ft22k\":\n",
    "            self.processor = BeitImageProcessor.from_pretrained(model_name)\n",
    "        if model_name == \"google/vit-base-patch16-224\":\n",
    "            self.processor = ViTImageProcessor.from_pretrained(model_name)\n",
    "        \n",
    "        self.len = len(self.img_sort)\n",
    "\n",
    "    def __len__(self):\n",
    "        return self.len\n",
    "\n",
    "    def __getitem__(self, idx):\n",
    "        img_path = self.img_sort[idx]\n",
    "        try:\n",
    "            # Read the TIFF image\n",
    "            image = Image.open(img_path)\n",
    "            # Convert the image to a NumPy array\n",
    "            image = np.array(image)\n",
    "            # Convert the NumPy array to a PyTorch tensor\n",
    "            image = torch.tensor(image).float()\n",
    "        except Exception as e:\n",
    "            print(f\"Error reading image {img_path}: {e}\")\n",
    "            # Handle error (e.g., by skipping this sample or using a default image)\n",
    "\n",
    "        label = torch.tensor(self.img_labels[idx], dtype=torch.long)\n",
    "\n",
    "        if len(image.shape) == 2 or (len(image.shape) == 3 and image.shape[0] == 1):\n",
    "            image = image.repeat(3, 1, 1)  # Replicate the channel to have 3 channels\n",
    "\n",
    "        if self.transform:\n",
    "            image = self.transform(image)\n",
    "\n",
    "        if self.processor:\n",
    "            image = self.processor(images=image, return_tensors=\"pt\").pixel_values.squeeze()\n",
    "\n",
    "        return image, label"
   ]
  },
  {
   "cell_type": "code",
   "execution_count": 30,
   "metadata": {
    "tags": []
   },
   "outputs": [
    {
     "data": {
      "text/html": [
       "Finishing last run (ID:f8fx93rv) before initializing another..."
      ],
      "text/plain": [
       "<IPython.core.display.HTML object>"
      ]
     },
     "metadata": {},
     "output_type": "display_data"
    },
    {
     "data": {
      "text/html": [
       "Waiting for W&B process to finish... <strong style=\"color:green\">(success).</strong>"
      ],
      "text/plain": [
       "<IPython.core.display.HTML object>"
      ]
     },
     "metadata": {},
     "output_type": "display_data"
    },
    {
     "data": {
      "text/html": [
       "<style>\n",
       "    table.wandb td:nth-child(1) { padding: 0 10px; text-align: left ; width: auto;} td:nth-child(2) {text-align: left ; width: 100%}\n",
       "    .wandb-row { display: flex; flex-direction: row; flex-wrap: wrap; justify-content: flex-start; width: 100% }\n",
       "    .wandb-col { display: flex; flex-direction: column; flex-basis: 100%; flex: 1; padding: 10px; }\n",
       "    </style>\n",
       "<div class=\"wandb-row\"><div class=\"wandb-col\"><h3>Run history:</h3><br/><table class=\"wandb\"><tr><td>class_0_f1_score</td><td>▁▁▁▁▁▁</td></tr><tr><td>class_1_f1_score</td><td>▁▁▁▁▁▁</td></tr><tr><td>class_2_f1_score</td><td>▁▁▁▁▁▁</td></tr><tr><td>epoch</td><td>▁▁▃▃▆▆█</td></tr><tr><td>fold</td><td>▁▁▁▁▁▁▁</td></tr><tr><td>train_loss</td><td>█▃▂▁</td></tr><tr><td>val_accuracy</td><td>▁▁▁</td></tr><tr><td>val_loss</td><td>▁▄█</td></tr></table><br/></div><div class=\"wandb-col\"><h3>Run summary:</h3><br/><table class=\"wandb\"><tr><td>class_0_f1_score</td><td>0.35714</td></tr><tr><td>class_1_f1_score</td><td>0.0</td></tr><tr><td>class_2_f1_score</td><td>0.0</td></tr><tr><td>epoch</td><td>3</td></tr><tr><td>fold</td><td>1</td></tr><tr><td>train_loss</td><td>0.49182</td></tr><tr><td>val_accuracy</td><td>21.73913</td></tr><tr><td>val_loss</td><td>3.07831</td></tr></table><br/></div></div>"
      ],
      "text/plain": [
       "<IPython.core.display.HTML object>"
      ]
     },
     "metadata": {},
     "output_type": "display_data"
    },
    {
     "data": {
      "text/html": [
       " View run <strong style=\"color:#cdcd00\">microsoft/resnet-50</strong> at: <a href='https://wandb.ai/laurent-gurtler/organoid_classification/runs/f8fx93rv' target=\"_blank\">https://wandb.ai/laurent-gurtler/organoid_classification/runs/f8fx93rv</a><br/>Synced 5 W&B file(s), 0 media file(s), 0 artifact file(s) and 0 other file(s)"
      ],
      "text/plain": [
       "<IPython.core.display.HTML object>"
      ]
     },
     "metadata": {},
     "output_type": "display_data"
    },
    {
     "data": {
      "text/html": [
       "Find logs at: <code>.\\wandb\\run-20231127_114939-f8fx93rv\\logs</code>"
      ],
      "text/plain": [
       "<IPython.core.display.HTML object>"
      ]
     },
     "metadata": {},
     "output_type": "display_data"
    },
    {
     "data": {
      "text/html": [
       "Successfully finished last run (ID:f8fx93rv). Initializing new run:<br/>"
      ],
      "text/plain": [
       "<IPython.core.display.HTML object>"
      ]
     },
     "metadata": {},
     "output_type": "display_data"
    },
    {
     "data": {
      "application/vnd.jupyter.widget-view+json": {
       "model_id": "e1cabfac93944818a327619cc2da21b6",
       "version_major": 2,
       "version_minor": 0
      },
      "text/plain": [
       "VBox(children=(Label(value='Waiting for wandb.init()...\\r'), FloatProgress(value=0.011111111111111112, max=1.0…"
      ]
     },
     "metadata": {},
     "output_type": "display_data"
    },
    {
     "data": {
      "text/html": [
       "wandb version 0.16.0 is available!  To upgrade, please run:\n",
       " $ pip install wandb --upgrade"
      ],
      "text/plain": [
       "<IPython.core.display.HTML object>"
      ]
     },
     "metadata": {},
     "output_type": "display_data"
    },
    {
     "data": {
      "text/html": [
       "Tracking run with wandb version 0.15.12"
      ],
      "text/plain": [
       "<IPython.core.display.HTML object>"
      ]
     },
     "metadata": {},
     "output_type": "display_data"
    },
    {
     "data": {
      "text/html": [
       "Run data is saved locally in <code>c:\\Users\\lguertle\\organoids-project\\notebooks\\wandb\\run-20231127_115945-k1acaada</code>"
      ],
      "text/plain": [
       "<IPython.core.display.HTML object>"
      ]
     },
     "metadata": {},
     "output_type": "display_data"
    },
    {
     "data": {
      "text/html": [
       "Syncing run <strong><a href='https://wandb.ai/laurent-gurtler/organoid_classification/runs/k1acaada' target=\"_blank\">microsoft/resnet-50</a></strong> to <a href='https://wandb.ai/laurent-gurtler/organoid_classification' target=\"_blank\">Weights & Biases</a> (<a href='https://wandb.me/run' target=\"_blank\">docs</a>)<br/>"
      ],
      "text/plain": [
       "<IPython.core.display.HTML object>"
      ]
     },
     "metadata": {},
     "output_type": "display_data"
    },
    {
     "data": {
      "text/html": [
       " View project at <a href='https://wandb.ai/laurent-gurtler/organoid_classification' target=\"_blank\">https://wandb.ai/laurent-gurtler/organoid_classification</a>"
      ],
      "text/plain": [
       "<IPython.core.display.HTML object>"
      ]
     },
     "metadata": {},
     "output_type": "display_data"
    },
    {
     "data": {
      "text/html": [
       " View run at <a href='https://wandb.ai/laurent-gurtler/organoid_classification/runs/k1acaada' target=\"_blank\">https://wandb.ai/laurent-gurtler/organoid_classification/runs/k1acaada</a>"
      ],
      "text/plain": [
       "<IPython.core.display.HTML object>"
      ]
     },
     "metadata": {},
     "output_type": "display_data"
    },
    {
     "name": "stdout",
     "output_type": "stream",
     "text": [
      "Training on fold 1/5\n"
     ]
    },
    {
     "name": "stderr",
     "output_type": "stream",
     "text": [
      "Could not find image processor class in the image processor config or the model config. Loading based on pattern matching with the model's feature extractor configuration.\n",
      "Could not find image processor class in the image processor config or the model config. Loading based on pattern matching with the model's feature extractor configuration.\n"
     ]
    },
    {
     "name": "stdout",
     "output_type": "stream",
     "text": [
      "cuda\n",
      "tensor([0, 0, 0, 0, 0, 0, 0, 0, 0, 0, 1, 1, 1, 1, 1, 1, 1, 1, 1, 1, 1, 1, 1, 1,\n",
      "        1, 1, 1, 1, 1, 2, 2, 2], device='cuda:0') [0, 0, 0, 0, 0, 0, 0, 0, 0, 0, 0, 0, 0, 0, 0, 0, 0, 0, 0, 0, 0, 0, 0, 0, 0, 0, 0, 0, 0, 0, 0, 0]\n",
      "tensor([2, 2, 2, 2, 2, 2, 2, 2, 2, 2, 2, 2, 2, 2], device='cuda:0') [0, 0, 0, 0, 0, 0, 0, 0, 0, 0, 0, 0, 0, 0, 0, 0, 0, 0, 0, 0, 0, 0, 0, 0, 0, 0, 0, 0, 0, 0, 0, 0, 0, 0, 0, 0, 0, 0, 0, 0, 0, 0, 0, 0, 0, 0]\n",
      "Epoch 1, Train Loss: 0.8451643884181976, Validation Loss: 1.2564022541046143, Accuracy: 21.73913043478261 %\n",
      "Class 0 F1 Score: 0.3571428571428571\n",
      "Class 1 F1 Score: 0.0\n",
      "Class 2 F1 Score: 0.0\n",
      "tensor([0, 0, 0, 0, 0, 0, 0, 0, 0, 0, 1, 1, 1, 1, 1, 1, 1, 1, 1, 1, 1, 1, 1, 1,\n",
      "        1, 1, 1, 1, 1, 2, 2, 2], device='cuda:0') [0, 0, 0, 0, 0, 0, 0, 0, 0, 0, 0, 0, 0, 0, 0, 0, 0, 0, 0, 0, 0, 0, 0, 0, 0, 0, 0, 0, 0, 0, 0, 0]\n",
      "tensor([2, 2, 2, 2, 2, 2, 2, 2, 2, 2, 2, 2, 2, 2], device='cuda:0') [0, 0, 0, 0, 0, 0, 0, 0, 0, 0, 0, 0, 0, 0, 0, 0, 0, 0, 0, 0, 0, 0, 0, 0, 0, 0, 0, 0, 0, 0, 0, 0, 0, 0, 0, 0, 0, 0, 0, 0, 0, 0, 0, 0, 0, 0]\n",
      "Epoch 2, Train Loss: 0.6196882029374441, Validation Loss: 1.915722370147705, Accuracy: 21.73913043478261 %\n",
      "Class 0 F1 Score: 0.3571428571428571\n",
      "Class 1 F1 Score: 0.0\n",
      "Class 2 F1 Score: 0.0\n",
      "tensor([0, 0, 0, 0, 0, 0, 0, 0, 0, 0, 1, 1, 1, 1, 1, 1, 1, 1, 1, 1, 1, 1, 1, 1,\n",
      "        1, 1, 1, 1, 1, 2, 2, 2], device='cuda:0') [0, 0, 0, 0, 0, 0, 0, 0, 0, 0, 0, 0, 0, 0, 0, 0, 0, 0, 0, 0, 0, 0, 0, 0, 0, 0, 0, 0, 0, 0, 0, 0]\n",
      "tensor([2, 2, 2, 2, 2, 2, 2, 2, 2, 2, 2, 2, 2, 2], device='cuda:0') [0, 0, 0, 0, 0, 0, 0, 0, 0, 0, 0, 0, 0, 0, 0, 0, 0, 0, 0, 0, 0, 0, 0, 0, 0, 0, 0, 0, 0, 0, 0, 0, 0, 0, 0, 0, 0, 0, 0, 0, 0, 0, 0, 0, 0, 0]\n",
      "Epoch 3, Train Loss: 0.546813040971756, Validation Loss: 2.945535182952881, Accuracy: 21.73913043478261 %\n",
      "Class 0 F1 Score: 0.3571428571428571\n",
      "Class 1 F1 Score: 0.0\n",
      "Class 2 F1 Score: 0.0\n",
      "tensor([0, 0, 0, 0, 0, 0, 0, 0, 0, 0, 1, 1, 1, 1, 1, 1, 1, 1, 1, 1, 1, 1, 1, 1,\n",
      "        1, 1, 1, 1, 1, 2, 2, 2], device='cuda:0') [0, 0, 0, 0, 0, 0, 0, 0, 0, 0, 0, 0, 0, 0, 0, 0, 0, 0, 0, 0, 0, 0, 0, 0, 0, 0, 0, 0, 0, 0, 0, 0]\n",
      "tensor([2, 2, 2, 2, 2, 2, 2, 2, 2, 2, 2, 2, 2, 2], device='cuda:0') [0, 0, 0, 0, 0, 0, 0, 0, 0, 0, 0, 0, 0, 0, 0, 0, 0, 0, 0, 0, 0, 0, 0, 0, 0, 0, 0, 0, 0, 0, 0, 0, 0, 0, 0, 0, 0, 0, 0, 0, 0, 0, 0, 0, 0, 0]\n",
      "Epoch 4, Train Loss: 0.4573693871498108, Validation Loss: 3.5851495265960693, Accuracy: 21.73913043478261 %\n",
      "Class 0 F1 Score: 0.3571428571428571\n",
      "Class 1 F1 Score: 0.0\n",
      "Class 2 F1 Score: 0.0\n",
      "tensor([0, 0, 0, 0, 0, 0, 0, 0, 0, 0, 1, 1, 1, 1, 1, 1, 1, 1, 1, 1, 1, 1, 1, 1,\n",
      "        1, 1, 1, 1, 1, 2, 2, 2], device='cuda:0') [0, 0, 0, 0, 0, 0, 0, 0, 0, 0, 0, 0, 0, 0, 0, 0, 0, 0, 0, 0, 0, 0, 0, 0, 0, 0, 0, 0, 0, 0, 0, 0]\n",
      "tensor([2, 2, 2, 2, 2, 2, 2, 2, 2, 2, 2, 2, 2, 2], device='cuda:0') [0, 0, 0, 0, 0, 0, 0, 0, 0, 0, 0, 0, 0, 0, 0, 0, 0, 0, 0, 0, 0, 0, 0, 0, 0, 0, 0, 0, 0, 0, 0, 0, 0, 0, 0, 0, 0, 0, 0, 0, 0, 0, 0, 0, 0, 2]\n",
      "Epoch 5, Train Loss: 0.33811835447947186, Validation Loss: 3.799246907234192, Accuracy: 23.91304347826087 %\n",
      "Class 0 F1 Score: 0.3636363636363636\n",
      "Class 1 F1 Score: 0.0\n",
      "Class 2 F1 Score: 0.1111111111111111\n",
      "tensor([0, 0, 0, 0, 0, 0, 0, 0, 0, 0, 1, 1, 1, 1, 1, 1, 1, 1, 1, 1, 1, 1, 1, 1,\n",
      "        1, 1, 1, 1, 1, 2, 2, 2], device='cuda:0') [0, 0, 0, 0, 0, 0, 0, 0, 0, 0, 0, 2, 0, 2, 0, 0, 0, 0, 0, 0, 2, 0, 0, 0, 0, 0, 0, 0, 0, 0, 0, 0]\n",
      "tensor([2, 2, 2, 2, 2, 2, 2, 2, 2, 2, 2, 2, 2, 2], device='cuda:0') [0, 0, 0, 0, 0, 0, 0, 0, 0, 0, 0, 2, 0, 2, 0, 0, 0, 0, 0, 0, 2, 0, 0, 0, 0, 0, 0, 0, 0, 0, 0, 0, 0, 0, 0, 0, 0, 0, 0, 2, 2, 2, 0, 0, 2, 1]\n",
      "Epoch 6, Train Loss: 0.29063209891319275, Validation Loss: 2.9486072063446045, Accuracy: 30.434782608695652 %\n",
      "Class 0 F1 Score: 0.4166666666666667\n",
      "Class 1 F1 Score: 0.0\n",
      "Class 2 F1 Score: 0.3333333333333333\n",
      "tensor([0, 0, 0, 0, 0, 0, 0, 0, 0, 0, 1, 1, 1, 1, 1, 1, 1, 1, 1, 1, 1, 1, 1, 1,\n",
      "        1, 1, 1, 1, 1, 2, 2, 2], device='cuda:0') [0, 0, 0, 0, 0, 0, 0, 0, 0, 0, 2, 2, 2, 1, 0, 0, 2, 0, 2, 2, 1, 0, 0, 0, 2, 2, 2, 0, 0, 0, 0, 2]\n",
      "tensor([2, 2, 2, 2, 2, 2, 2, 2, 2, 2, 2, 2, 2, 2], device='cuda:0') [0, 0, 0, 0, 0, 0, 0, 0, 0, 0, 2, 2, 2, 1, 0, 0, 2, 0, 2, 2, 1, 0, 0, 0, 2, 2, 2, 0, 0, 0, 0, 2, 2, 0, 0, 0, 0, 2, 0, 2, 1, 1, 0, 2, 2, 1]\n",
      "Epoch 7, Train Loss: 0.22111187875270844, Validation Loss: 1.7395005822181702, Accuracy: 39.130434782608695 %\n",
      "Class 0 F1 Score: 0.5555555555555556\n",
      "Class 1 F1 Score: 0.16666666666666666\n",
      "Class 2 F1 Score: 0.37500000000000006\n",
      "tensor([0, 0, 0, 0, 0, 0, 0, 0, 0, 0, 1, 1, 1, 1, 1, 1, 1, 1, 1, 1, 1, 1, 1, 1,\n",
      "        1, 1, 1, 1, 1, 2, 2, 2], device='cuda:0') [0, 0, 0, 0, 0, 0, 0, 0, 0, 0, 2, 1, 1, 1, 2, 2, 2, 2, 2, 1, 1, 0, 2, 2, 2, 1, 1, 2, 2, 0, 0, 2]\n",
      "tensor([2, 2, 2, 2, 2, 2, 2, 2, 2, 2, 2, 2, 2, 2], device='cuda:0') [0, 0, 0, 0, 0, 0, 0, 0, 0, 0, 2, 1, 1, 1, 2, 2, 2, 2, 2, 1, 1, 0, 2, 2, 2, 1, 1, 2, 2, 0, 0, 2, 2, 0, 2, 0, 2, 2, 2, 1, 1, 1, 2, 2, 2, 1]\n",
      "Epoch 8, Train Loss: 0.17117674524585405, Validation Loss: 0.998331606388092, Accuracy: 56.52173913043478 %\n",
      "Class 0 F1 Score: 0.8\n",
      "Class 1 F1 Score: 0.4666666666666667\n",
      "Class 2 F1 Score: 0.48648648648648646\n",
      "tensor([0, 0, 0, 0, 0, 0, 0, 0, 0, 0, 1, 1, 1, 1, 1, 1, 1, 1, 1, 1, 1, 1, 1, 1,\n",
      "        1, 1, 1, 1, 1, 2, 2, 2], device='cuda:0') [0, 0, 0, 0, 0, 0, 0, 0, 0, 0, 1, 1, 1, 1, 1, 2, 1, 2, 1, 1, 1, 2, 1, 1, 1, 1, 1, 1, 2, 0, 0, 1]\n",
      "tensor([2, 2, 2, 2, 2, 2, 2, 2, 2, 2, 2, 2, 2, 2], device='cuda:0') [0, 0, 0, 0, 0, 0, 0, 0, 0, 0, 1, 1, 1, 1, 1, 2, 1, 2, 1, 1, 1, 2, 1, 1, 1, 1, 1, 1, 2, 0, 0, 1, 1, 0, 2, 0, 2, 1, 1, 1, 1, 1, 2, 2, 2, 1]\n",
      "Epoch 9, Train Loss: 0.12085681222379208, Validation Loss: 1.0695267468690872, Accuracy: 65.21739130434783 %\n",
      "Class 0 F1 Score: 0.8333333333333333\n",
      "Class 1 F1 Score: 0.7142857142857143\n",
      "Class 2 F1 Score: 0.3846153846153846\n",
      "tensor([0, 0, 0, 0, 0, 0, 0, 0, 0, 0, 1, 1, 1, 1, 1, 1, 1, 1, 1, 1, 1, 1, 1, 1,\n",
      "        1, 1, 1, 1, 1, 2, 2, 2], device='cuda:0') [0, 0, 0, 0, 0, 0, 0, 0, 0, 0, 1, 1, 1, 1, 1, 2, 1, 2, 1, 1, 1, 2, 1, 1, 1, 1, 1, 1, 2, 0, 2, 2]\n",
      "tensor([2, 2, 2, 2, 2, 2, 2, 2, 2, 2, 2, 2, 2, 2], device='cuda:0') [0, 0, 0, 0, 0, 0, 0, 0, 0, 0, 1, 1, 1, 1, 1, 2, 1, 2, 1, 1, 1, 2, 1, 1, 1, 1, 1, 1, 2, 0, 2, 2, 2, 2, 2, 0, 2, 1, 1, 2, 2, 2, 2, 2, 2, 2]\n",
      "Epoch 10, Train Loss: 0.146346814930439, Validation Loss: 0.38373149931430817, Accuracy: 82.6086956521739 %\n",
      "Class 0 F1 Score: 0.9090909090909091\n",
      "Class 1 F1 Score: 0.8333333333333333\n",
      "Class 2 F1 Score: 0.7647058823529412\n",
      "tensor([0, 0, 0, 0, 0, 0, 0, 0, 0, 0, 1, 1, 1, 1, 1, 1, 1, 1, 1, 1, 1, 1, 1, 1,\n",
      "        1, 1, 1, 1, 1, 2, 2, 2], device='cuda:0') [0, 0, 0, 0, 0, 0, 0, 0, 2, 0, 1, 1, 1, 1, 1, 2, 1, 1, 1, 1, 1, 2, 1, 2, 1, 1, 1, 1, 1, 0, 2, 2]\n",
      "tensor([2, 2, 2, 2, 2, 2, 2, 2, 2, 2, 2, 2, 2, 2], device='cuda:0') [0, 0, 0, 0, 0, 0, 0, 0, 2, 0, 1, 1, 1, 1, 1, 2, 1, 1, 1, 1, 1, 2, 1, 2, 1, 1, 1, 1, 1, 0, 2, 2, 2, 2, 2, 2, 2, 1, 1, 2, 2, 2, 2, 2, 2, 2]\n",
      "Epoch 11, Train Loss: 0.05147250679632028, Validation Loss: 0.32411570847034454, Accuracy: 84.78260869565217 %\n",
      "Class 0 F1 Score: 0.9\n",
      "Class 1 F1 Score: 0.8648648648648649\n",
      "Class 2 F1 Score: 0.7999999999999999\n",
      "tensor([0, 0, 0, 0, 0, 0, 0, 0, 0, 0, 1, 1, 1, 1, 1, 1, 1, 1, 1, 1, 1, 1, 1, 1,\n",
      "        1, 1, 1, 1, 1, 2, 2, 2], device='cuda:0') [0, 0, 0, 0, 0, 0, 0, 0, 2, 0, 1, 1, 1, 1, 1, 1, 1, 1, 1, 1, 1, 1, 1, 1, 1, 1, 1, 1, 1, 0, 2, 1]\n",
      "tensor([2, 2, 2, 2, 2, 2, 2, 2, 2, 2, 2, 2, 2, 2], device='cuda:0') [0, 0, 0, 0, 0, 0, 0, 0, 2, 0, 1, 1, 1, 1, 1, 1, 1, 1, 1, 1, 1, 1, 1, 1, 1, 1, 1, 1, 1, 0, 2, 1, 1, 2, 2, 2, 2, 1, 1, 2, 2, 2, 2, 2, 2, 2]\n",
      "Epoch 12, Train Loss: 0.07364506926387548, Validation Loss: 0.49278774857521057, Accuracy: 86.95652173913044 %\n",
      "Class 0 F1 Score: 0.9\n",
      "Class 1 F1 Score: 0.9047619047619047\n",
      "Class 2 F1 Score: 0.8000000000000002\n",
      "tensor([0, 0, 0, 0, 0, 0, 0, 0, 0, 0, 1, 1, 1, 1, 1, 1, 1, 1, 1, 1, 1, 1, 1, 1,\n",
      "        1, 1, 1, 1, 1, 2, 2, 2], device='cuda:0') [0, 0, 0, 0, 0, 0, 0, 0, 2, 0, 1, 1, 1, 1, 1, 1, 1, 1, 1, 1, 1, 1, 1, 1, 1, 1, 1, 1, 1, 0, 2, 2]\n",
      "tensor([2, 2, 2, 2, 2, 2, 2, 2, 2, 2, 2, 2, 2, 2], device='cuda:0') [0, 0, 0, 0, 0, 0, 0, 0, 2, 0, 1, 1, 1, 1, 1, 1, 1, 1, 1, 1, 1, 1, 1, 1, 1, 1, 1, 1, 1, 0, 2, 2, 1, 2, 2, 2, 2, 1, 1, 2, 2, 2, 2, 2, 2, 2]\n",
      "Epoch 13, Train Loss: 0.02286294273411234, Validation Loss: 0.4381379932165146, Accuracy: 89.1304347826087 %\n",
      "Class 0 F1 Score: 0.9\n",
      "Class 1 F1 Score: 0.9268292682926829\n",
      "Class 2 F1 Score: 0.8387096774193549\n",
      "tensor([0, 0, 0, 0, 0, 0, 0, 0, 0, 0, 1, 1, 1, 1, 1, 1, 1, 1, 1, 1, 1, 1, 1, 1,\n",
      "        1, 1, 1, 1, 1, 2, 2, 2], device='cuda:0') [0, 0, 0, 0, 0, 0, 0, 0, 2, 0, 1, 1, 1, 1, 1, 1, 1, 1, 1, 1, 2, 1, 1, 1, 1, 2, 2, 1, 1, 0, 2, 2]\n",
      "tensor([2, 2, 2, 2, 2, 2, 2, 2, 2, 2, 2, 2, 2, 2], device='cuda:0') [0, 0, 0, 0, 0, 0, 0, 0, 2, 0, 1, 1, 1, 1, 1, 1, 1, 1, 1, 1, 2, 1, 1, 1, 1, 2, 2, 1, 1, 0, 2, 2, 2, 2, 2, 2, 2, 1, 1, 2, 2, 2, 2, 2, 2, 2]\n",
      "Epoch 14, Train Loss: 0.02397567763303717, Validation Loss: 0.35714690387248993, Accuracy: 84.78260869565217 %\n",
      "Class 0 F1 Score: 0.9\n",
      "Class 1 F1 Score: 0.8648648648648649\n",
      "Class 2 F1 Score: 0.7999999999999999\n",
      "tensor([0, 0, 0, 0, 0, 0, 0, 0, 0, 0, 1, 1, 1, 1, 1, 1, 1, 1, 1, 1, 1, 1, 1, 1,\n",
      "        1, 1, 1, 1, 1, 2, 2, 2], device='cuda:0') [0, 0, 0, 0, 2, 0, 0, 0, 2, 2, 1, 1, 1, 1, 1, 1, 1, 1, 1, 1, 2, 1, 1, 1, 1, 2, 2, 1, 1, 0, 2, 2]\n",
      "tensor([2, 2, 2, 2, 2, 2, 2, 2, 2, 2, 2, 2, 2, 2], device='cuda:0') [0, 0, 0, 0, 2, 0, 0, 0, 2, 2, 1, 1, 1, 1, 1, 1, 1, 1, 1, 1, 2, 1, 1, 1, 1, 2, 2, 1, 1, 0, 2, 2, 2, 2, 2, 2, 2, 1, 1, 2, 2, 2, 2, 2, 2, 2]\n",
      "Epoch 15, Train Loss: 0.018395869216571253, Validation Loss: 0.38213013112545013, Accuracy: 80.43478260869566 %\n",
      "Class 0 F1 Score: 0.7777777777777777\n",
      "Class 1 F1 Score: 0.8648648648648649\n",
      "Class 2 F1 Score: 0.7567567567567567\n",
      "tensor([0, 0, 0, 0, 0, 0, 0, 0, 0, 0, 1, 1, 1, 1, 1, 1, 1, 1, 1, 1, 1, 1, 1, 1,\n",
      "        1, 1, 1, 1, 1, 2, 2, 2], device='cuda:0') [0, 0, 0, 0, 2, 0, 0, 0, 2, 0, 1, 1, 1, 1, 1, 1, 1, 1, 1, 1, 2, 1, 1, 1, 1, 2, 2, 1, 1, 0, 2, 2]\n",
      "tensor([2, 2, 2, 2, 2, 2, 2, 2, 2, 2, 2, 2, 2, 2], device='cuda:0') [0, 0, 0, 0, 2, 0, 0, 0, 2, 0, 1, 1, 1, 1, 1, 1, 1, 1, 1, 1, 2, 1, 1, 1, 1, 2, 2, 1, 1, 0, 2, 2, 2, 2, 2, 2, 2, 1, 1, 2, 2, 2, 2, 2, 2, 2]\n",
      "Epoch 16, Train Loss: 0.009515070356428623, Validation Loss: 0.3836631327867508, Accuracy: 82.6086956521739 %\n",
      "Class 0 F1 Score: 0.8421052631578948\n",
      "Class 1 F1 Score: 0.8648648648648649\n",
      "Class 2 F1 Score: 0.7777777777777778\n",
      "tensor([0, 0, 0, 0, 0, 0, 0, 0, 0, 0, 1, 1, 1, 1, 1, 1, 1, 1, 1, 1, 1, 1, 1, 1,\n",
      "        1, 1, 1, 1, 1, 2, 2, 2], device='cuda:0') [0, 0, 0, 0, 0, 0, 0, 0, 2, 0, 1, 1, 1, 1, 1, 1, 1, 1, 1, 1, 1, 1, 1, 1, 1, 2, 1, 1, 1, 0, 2, 2]\n",
      "tensor([2, 2, 2, 2, 2, 2, 2, 2, 2, 2, 2, 2, 2, 2], device='cuda:0') [0, 0, 0, 0, 0, 0, 0, 0, 2, 0, 1, 1, 1, 1, 1, 1, 1, 1, 1, 1, 1, 1, 1, 1, 1, 2, 1, 1, 1, 0, 2, 2, 2, 2, 2, 2, 2, 1, 1, 2, 2, 2, 2, 2, 2, 2]\n",
      "Epoch 17, Train Loss: 0.007147519111943741, Validation Loss: 0.4577185809612274, Accuracy: 89.1304347826087 %\n",
      "Class 0 F1 Score: 0.9\n",
      "Class 1 F1 Score: 0.9230769230769231\n",
      "Class 2 F1 Score: 0.8484848484848485\n",
      "tensor([0, 0, 0, 0, 0, 0, 0, 0, 0, 0, 1, 1, 1, 1, 1, 1, 1, 1, 1, 1, 1, 1, 1, 1,\n",
      "        1, 1, 1, 1, 1, 2, 2, 2], device='cuda:0') [0, 0, 0, 0, 0, 0, 0, 0, 2, 0, 1, 1, 1, 1, 1, 1, 1, 1, 1, 1, 1, 1, 1, 1, 1, 1, 1, 1, 1, 0, 2, 2]\n",
      "tensor([2, 2, 2, 2, 2, 2, 2, 2, 2, 2, 2, 2, 2, 2], device='cuda:0') [0, 0, 0, 0, 0, 0, 0, 0, 2, 0, 1, 1, 1, 1, 1, 1, 1, 1, 1, 1, 1, 1, 1, 1, 1, 1, 1, 1, 1, 0, 2, 2, 1, 2, 2, 2, 2, 1, 1, 2, 2, 2, 2, 2, 2, 2]\n",
      "Epoch 18, Train Loss: 0.004218645102810115, Validation Loss: 0.5087068602442741, Accuracy: 89.1304347826087 %\n",
      "Class 0 F1 Score: 0.9\n",
      "Class 1 F1 Score: 0.9268292682926829\n",
      "Class 2 F1 Score: 0.8387096774193549\n",
      "tensor([0, 0, 0, 0, 0, 0, 0, 0, 0, 0, 1, 1, 1, 1, 1, 1, 1, 1, 1, 1, 1, 1, 1, 1,\n",
      "        1, 1, 1, 1, 1, 2, 2, 2], device='cuda:0') [0, 0, 0, 0, 0, 0, 0, 0, 2, 0, 1, 1, 1, 1, 1, 1, 1, 1, 1, 1, 1, 1, 1, 1, 1, 1, 1, 1, 1, 0, 2, 2]\n",
      "tensor([2, 2, 2, 2, 2, 2, 2, 2, 2, 2, 2, 2, 2, 2], device='cuda:0') [0, 0, 0, 0, 0, 0, 0, 0, 2, 0, 1, 1, 1, 1, 1, 1, 1, 1, 1, 1, 1, 1, 1, 1, 1, 1, 1, 1, 1, 0, 2, 2, 1, 2, 2, 2, 2, 1, 1, 2, 2, 2, 2, 2, 2, 2]\n",
      "Epoch 19, Train Loss: 0.013634249800816178, Validation Loss: 0.5261895954608917, Accuracy: 89.1304347826087 %\n",
      "Class 0 F1 Score: 0.9\n",
      "Class 1 F1 Score: 0.9268292682926829\n",
      "Class 2 F1 Score: 0.8387096774193549\n",
      "tensor([0, 0, 0, 0, 0, 0, 0, 0, 0, 0, 1, 1, 1, 1, 1, 1, 1, 1, 1, 1, 1, 1, 1, 1,\n",
      "        1, 1, 1, 1, 1, 2, 2, 2], device='cuda:0') [0, 0, 0, 0, 0, 0, 0, 0, 2, 0, 1, 2, 2, 2, 1, 1, 1, 1, 1, 1, 2, 1, 1, 2, 1, 2, 2, 1, 1, 0, 2, 2]\n",
      "tensor([2, 2, 2, 2, 2, 2, 2, 2, 2, 2, 2, 2, 2, 2], device='cuda:0') [0, 0, 0, 0, 0, 0, 0, 0, 2, 0, 1, 2, 2, 2, 1, 1, 1, 1, 1, 1, 2, 1, 1, 2, 1, 2, 2, 1, 1, 0, 2, 2, 2, 2, 2, 2, 2, 1, 1, 2, 2, 2, 2, 2, 2, 2]\n",
      "Epoch 20, Train Loss: 0.005582365983476241, Validation Loss: 0.5325492918491364, Accuracy: 76.08695652173913 %\n",
      "Class 0 F1 Score: 0.9\n",
      "Class 1 F1 Score: 0.7272727272727273\n",
      "Class 2 F1 Score: 0.717948717948718\n",
      "tensor([0, 0, 0, 0, 0, 0, 0, 0, 0, 0, 1, 1, 1, 1, 1, 1, 1, 1, 1, 1, 1, 1, 1, 1,\n",
      "        1, 1, 1, 1, 1, 2, 2, 2], device='cuda:0') [0, 0, 0, 0, 0, 0, 0, 0, 2, 0, 1, 1, 1, 1, 1, 1, 1, 1, 1, 1, 1, 1, 1, 1, 1, 1, 1, 1, 1, 0, 1, 1]\n",
      "tensor([2, 2, 2, 2, 2, 2, 2, 2, 2, 2, 2, 2, 2, 2], device='cuda:0') [0, 0, 0, 0, 0, 0, 0, 0, 2, 0, 1, 1, 1, 1, 1, 1, 1, 1, 1, 1, 1, 1, 1, 1, 1, 1, 1, 1, 1, 0, 1, 1, 1, 2, 2, 0, 1, 1, 1, 1, 1, 1, 1, 1, 1, 1]\n",
      "Epoch 21, Train Loss: 0.2788876954970571, Validation Loss: 2.6519166231155396, Accuracy: 65.21739130434783 %\n",
      "Class 0 F1 Score: 0.8571428571428572\n",
      "Class 1 F1 Score: 0.7450980392156863\n",
      "Class 2 F1 Score: 0.2\n",
      "tensor([0, 0, 0, 0, 0, 0, 0, 0, 0, 0, 1, 1, 1, 1, 1, 1, 1, 1, 1, 1, 1, 1, 1, 1,\n",
      "        1, 1, 1, 1, 1, 2, 2, 2], device='cuda:0') [0, 0, 0, 0, 2, 0, 0, 0, 2, 2, 1, 2, 1, 2, 1, 1, 1, 1, 1, 1, 2, 1, 1, 1, 1, 2, 2, 1, 1, 0, 2, 2]\n",
      "tensor([2, 2, 2, 2, 2, 2, 2, 2, 2, 2, 2, 2, 2, 2], device='cuda:0') [0, 0, 0, 0, 2, 0, 0, 0, 2, 2, 1, 2, 1, 2, 1, 1, 1, 1, 1, 1, 2, 1, 1, 1, 1, 2, 2, 1, 1, 0, 2, 2, 2, 2, 2, 2, 2, 1, 1, 2, 2, 2, 2, 2, 2, 2]\n",
      "Epoch 22, Train Loss: 0.3592662907515963, Validation Loss: 0.5847582221031189, Accuracy: 76.08695652173913 %\n",
      "Class 0 F1 Score: 0.7777777777777777\n",
      "Class 1 F1 Score: 0.7999999999999999\n",
      "Class 2 F1 Score: 0.717948717948718\n",
      "tensor([0, 0, 0, 0, 0, 0, 0, 0, 0, 0, 1, 1, 1, 1, 1, 1, 1, 1, 1, 1, 1, 1, 1, 1,\n",
      "        1, 1, 1, 1, 1, 2, 2, 2], device='cuda:0') [0, 0, 0, 0, 2, 0, 0, 0, 2, 2, 2, 2, 2, 2, 2, 2, 2, 2, 2, 2, 2, 2, 2, 2, 2, 2, 2, 2, 2, 2, 2, 2]\n",
      "tensor([2, 2, 2, 2, 2, 2, 2, 2, 2, 2, 2, 2, 2, 2], device='cuda:0') [0, 0, 0, 0, 2, 0, 0, 0, 2, 2, 2, 2, 2, 2, 2, 2, 2, 2, 2, 2, 2, 2, 2, 2, 2, 2, 2, 2, 2, 2, 2, 2, 2, 2, 2, 2, 2, 2, 2, 2, 2, 2, 2, 2, 2, 2]\n",
      "Epoch 23, Train Loss: 0.19577014135817686, Validation Loss: 4.6472068568109535, Accuracy: 52.17391304347826 %\n",
      "Class 0 F1 Score: 0.8235294117647058\n",
      "Class 1 F1 Score: 0.0\n",
      "Class 2 F1 Score: 0.6071428571428571\n",
      "tensor([0, 0, 0, 0, 0, 0, 0, 0, 0, 0, 1, 1, 1, 1, 1, 1, 1, 1, 1, 1, 1, 1, 1, 1,\n",
      "        1, 1, 1, 1, 1, 2, 2, 2], device='cuda:0') [0, 0, 0, 0, 0, 0, 0, 0, 0, 0, 1, 2, 1, 2, 1, 1, 1, 1, 1, 1, 2, 1, 1, 1, 1, 2, 1, 1, 1, 0, 2, 2]\n",
      "tensor([2, 2, 2, 2, 2, 2, 2, 2, 2, 2, 2, 2, 2, 2], device='cuda:0') [0, 0, 0, 0, 0, 0, 0, 0, 0, 0, 1, 2, 1, 2, 1, 1, 1, 1, 1, 1, 2, 1, 1, 1, 1, 2, 1, 1, 1, 0, 2, 2, 2, 0, 2, 0, 2, 1, 1, 2, 2, 2, 2, 2, 2, 2]\n",
      "Epoch 24, Train Loss: 0.2012282299498717, Validation Loss: 0.8851069808006287, Accuracy: 80.43478260869566 %\n",
      "Class 0 F1 Score: 0.8695652173913044\n",
      "Class 1 F1 Score: 0.8333333333333333\n",
      "Class 2 F1 Score: 0.7272727272727272\n",
      "tensor([0, 0, 0, 0, 0, 0, 0, 0, 0, 0, 1, 1, 1, 1, 1, 1, 1, 1, 1, 1, 1, 1, 1, 1,\n",
      "        1, 1, 1, 1, 1, 2, 2, 2], device='cuda:0') [0, 0, 0, 0, 0, 0, 0, 0, 0, 0, 1, 1, 1, 1, 1, 1, 1, 1, 1, 1, 1, 1, 1, 1, 1, 1, 1, 1, 1, 0, 0, 1]\n",
      "tensor([2, 2, 2, 2, 2, 2, 2, 2, 2, 2, 2, 2, 2, 2], device='cuda:0') [0, 0, 0, 0, 0, 0, 0, 0, 0, 0, 1, 1, 1, 1, 1, 1, 1, 1, 1, 1, 1, 1, 1, 1, 1, 1, 1, 1, 1, 0, 0, 1, 1, 0, 2, 0, 1, 1, 1, 1, 1, 2, 1, 1, 2, 2]\n",
      "Epoch 25, Train Loss: 0.07965203747153282, Validation Loss: 1.5550686419010162, Accuracy: 71.73913043478261 %\n",
      "Class 0 F1 Score: 0.8333333333333333\n",
      "Class 1 F1 Score: 0.8085106382978724\n",
      "Class 2 F1 Score: 0.38095238095238093\n",
      "tensor([0, 0, 0, 0, 0, 0, 0, 0, 0, 0, 1, 1, 1, 1, 1, 1, 1, 1, 1, 1, 1, 1, 1, 1,\n",
      "        1, 1, 1, 1, 1, 2, 2, 2], device='cuda:0') [0, 0, 0, 0, 0, 0, 0, 0, 0, 0, 1, 1, 1, 1, 1, 1, 1, 1, 1, 1, 1, 1, 1, 1, 1, 1, 1, 1, 1, 0, 2, 2]\n",
      "tensor([2, 2, 2, 2, 2, 2, 2, 2, 2, 2, 2, 2, 2, 2], device='cuda:0') [0, 0, 0, 0, 0, 0, 0, 0, 0, 0, 1, 1, 1, 1, 1, 1, 1, 1, 1, 1, 1, 1, 1, 1, 1, 1, 1, 1, 1, 0, 2, 2, 2, 0, 2, 0, 2, 1, 1, 2, 2, 2, 2, 2, 2, 2]\n",
      "Epoch 26, Train Loss: 0.09434632180879514, Validation Loss: 0.5670712441205978, Accuracy: 89.1304347826087 %\n",
      "Class 0 F1 Score: 0.8695652173913044\n",
      "Class 1 F1 Score: 0.9500000000000001\n",
      "Class 2 F1 Score: 0.8275862068965517\n",
      "tensor([0, 0, 0, 0, 0, 0, 0, 0, 0, 0, 1, 1, 1, 1, 1, 1, 1, 1, 1, 1, 1, 1, 1, 1,\n",
      "        1, 1, 1, 1, 1, 2, 2, 2], device='cuda:0') [0, 0, 0, 0, 0, 0, 0, 0, 0, 0, 1, 2, 2, 1, 2, 1, 1, 1, 1, 1, 2, 1, 1, 1, 1, 2, 2, 1, 1, 0, 2, 2]\n",
      "tensor([2, 2, 2, 2, 2, 2, 2, 2, 2, 2, 2, 2, 2, 2], device='cuda:0') [0, 0, 0, 0, 0, 0, 0, 0, 0, 0, 1, 2, 2, 1, 2, 1, 1, 1, 1, 1, 2, 1, 1, 1, 1, 2, 2, 1, 1, 0, 2, 2, 2, 0, 2, 0, 2, 1, 1, 2, 2, 2, 2, 2, 2, 2]\n",
      "Epoch 27, Train Loss: 0.031499738028893866, Validation Loss: 0.5504261404275894, Accuracy: 76.08695652173913 %\n",
      "Class 0 F1 Score: 0.8695652173913044\n",
      "Class 1 F1 Score: 0.7647058823529413\n",
      "Class 2 F1 Score: 0.6857142857142857\n",
      "tensor([0, 0, 0, 0, 0, 0, 0, 0, 0, 0, 1, 1, 1, 1, 1, 1, 1, 1, 1, 1, 1, 1, 1, 1,\n",
      "        1, 1, 1, 1, 1, 2, 2, 2], device='cuda:0') [0, 0, 0, 0, 0, 0, 0, 0, 0, 0, 1, 2, 1, 1, 1, 1, 1, 1, 1, 1, 2, 1, 1, 1, 1, 2, 1, 1, 1, 0, 2, 2]\n",
      "tensor([2, 2, 2, 2, 2, 2, 2, 2, 2, 2, 2, 2, 2, 2], device='cuda:0') [0, 0, 0, 0, 0, 0, 0, 0, 0, 0, 1, 2, 1, 1, 1, 1, 1, 1, 1, 1, 2, 1, 1, 1, 1, 2, 1, 1, 1, 0, 2, 2, 2, 2, 2, 2, 2, 1, 1, 2, 2, 2, 2, 2, 2, 2]\n",
      "Epoch 28, Train Loss: 0.060489104595035315, Validation Loss: 0.4601275473833084, Accuracy: 86.95652173913044 %\n",
      "Class 0 F1 Score: 0.9523809523809523\n",
      "Class 1 F1 Score: 0.8648648648648649\n",
      "Class 2 F1 Score: 0.8235294117647058\n",
      "tensor([0, 0, 0, 0, 0, 0, 0, 0, 0, 0, 1, 1, 1, 1, 1, 1, 1, 1, 1, 1, 1, 1, 1, 1,\n",
      "        1, 1, 1, 1, 1, 2, 2, 2], device='cuda:0') [0, 0, 0, 0, 0, 0, 0, 0, 2, 0, 1, 1, 1, 1, 1, 1, 1, 1, 1, 1, 1, 1, 1, 1, 1, 1, 1, 1, 1, 0, 2, 1]\n",
      "tensor([2, 2, 2, 2, 2, 2, 2, 2, 2, 2, 2, 2, 2, 2], device='cuda:0') [0, 0, 0, 0, 0, 0, 0, 0, 2, 0, 1, 1, 1, 1, 1, 1, 1, 1, 1, 1, 1, 1, 1, 1, 1, 1, 1, 1, 1, 0, 2, 1, 1, 2, 2, 2, 2, 1, 1, 2, 2, 2, 2, 2, 2, 2]\n",
      "Epoch 29, Train Loss: 0.027044564485549927, Validation Loss: 0.5813503861427307, Accuracy: 86.95652173913044 %\n",
      "Class 0 F1 Score: 0.9\n",
      "Class 1 F1 Score: 0.9047619047619047\n",
      "Class 2 F1 Score: 0.8000000000000002\n",
      "tensor([0, 0, 0, 0, 0, 0, 0, 0, 0, 0, 1, 1, 1, 1, 1, 1, 1, 1, 1, 1, 1, 1, 1, 1,\n",
      "        1, 1, 1, 1, 1, 2, 2, 2], device='cuda:0') [0, 0, 0, 0, 0, 0, 0, 0, 2, 0, 1, 2, 1, 1, 1, 1, 1, 1, 1, 1, 2, 1, 1, 1, 1, 2, 1, 1, 1, 0, 2, 2]\n",
      "tensor([2, 2, 2, 2, 2, 2, 2, 2, 2, 2, 2, 2, 2, 2], device='cuda:0') [0, 0, 0, 0, 0, 0, 0, 0, 2, 0, 1, 2, 1, 1, 1, 1, 1, 1, 1, 1, 2, 1, 1, 1, 1, 2, 1, 1, 1, 0, 2, 2, 2, 2, 2, 2, 2, 1, 1, 2, 2, 2, 2, 2, 2, 2]\n",
      "Epoch 30, Train Loss: 0.03477311274036765, Validation Loss: 0.4786241054534912, Accuracy: 84.78260869565217 %\n",
      "Class 0 F1 Score: 0.9\n",
      "Class 1 F1 Score: 0.8648648648648649\n",
      "Class 2 F1 Score: 0.7999999999999999\n"
     ]
    },
    {
     "data": {
      "image/png": "[encoded data removed]",
      "text/plain": [
       "<Figure size 1000x600 with 1 Axes>"
      ]
     },
     "metadata": {},
     "output_type": "display_data"
    },
    {
     "name": "stdout",
     "output_type": "stream",
     "text": [
      "Training on fold 2/5\n"
     ]
    },
    {
     "name": "stderr",
     "output_type": "stream",
     "text": [
      "Could not find image processor class in the image processor config or the model config. Loading based on pattern matching with the model's feature extractor configuration.\n",
      "Could not find image processor class in the image processor config or the model config. Loading based on pattern matching with the model's feature extractor configuration.\n"
     ]
    },
    {
     "name": "stdout",
     "output_type": "stream",
     "text": [
      "cuda\n",
      "tensor([0, 0, 0, 0, 0, 0, 0, 0, 0, 0, 1, 1, 1, 1, 1, 1, 1, 1, 1, 1, 1, 1, 1, 1,\n",
      "        1, 1, 1, 1, 1, 2, 2, 2], device='cuda:0') [0, 0, 0, 0, 0, 0, 0, 0, 0, 0, 0, 0, 0, 0, 0, 0, 0, 0, 0, 0, 0, 0, 0, 0, 0, 0, 0, 0, 0, 0, 0, 0]\n",
      "tensor([2, 2, 2, 2, 2, 2, 2, 2, 2, 2, 2, 2, 2], device='cuda:0') [0, 0, 0, 0, 0, 0, 0, 0, 0, 0, 0, 0, 0, 0, 0, 0, 0, 0, 0, 0, 0, 0, 0, 0, 0, 0, 0, 0, 0, 0, 0, 0, 0, 0, 0, 0, 0, 0, 0, 0, 0, 0, 0, 0, 0]\n",
      "Epoch 1, Train Loss: 1.081582377354304, Validation Loss: 1.410986840724945, Accuracy: 22.22222222222222 %\n",
      "Class 0 F1 Score: 0.3636363636363636\n",
      "Class 1 F1 Score: 0.0\n",
      "Class 2 F1 Score: 0.0\n",
      "tensor([0, 0, 0, 0, 0, 0, 0, 0, 0, 0, 1, 1, 1, 1, 1, 1, 1, 1, 1, 1, 1, 1, 1, 1,\n",
      "        1, 1, 1, 1, 1, 2, 2, 2], device='cuda:0') [0, 0, 0, 0, 0, 0, 0, 0, 0, 0, 0, 0, 0, 0, 0, 0, 0, 0, 0, 0, 0, 0, 0, 0, 0, 0, 0, 0, 0, 0, 0, 0]\n",
      "tensor([2, 2, 2, 2, 2, 2, 2, 2, 2, 2, 2, 2, 2], device='cuda:0') [0, 0, 0, 0, 0, 0, 0, 0, 0, 0, 0, 0, 0, 0, 0, 0, 0, 0, 0, 0, 0, 0, 0, 0, 0, 0, 0, 0, 0, 0, 0, 0, 0, 0, 0, 0, 0, 0, 0, 0, 0, 0, 0, 0, 0]\n",
      "Epoch 2, Train Loss: 0.6908479034900665, Validation Loss: 1.955375850200653, Accuracy: 22.22222222222222 %\n",
      "Class 0 F1 Score: 0.3636363636363636\n",
      "Class 1 F1 Score: 0.0\n",
      "Class 2 F1 Score: 0.0\n",
      "tensor([0, 0, 0, 0, 0, 0, 0, 0, 0, 0, 1, 1, 1, 1, 1, 1, 1, 1, 1, 1, 1, 1, 1, 1,\n",
      "        1, 1, 1, 1, 1, 2, 2, 2], device='cuda:0') [0, 0, 0, 0, 0, 0, 0, 0, 0, 0, 0, 0, 0, 0, 0, 0, 0, 0, 0, 0, 0, 0, 0, 0, 0, 0, 0, 0, 0, 0, 0, 0]\n",
      "tensor([2, 2, 2, 2, 2, 2, 2, 2, 2, 2, 2, 2, 2], device='cuda:0') [0, 0, 0, 0, 0, 0, 0, 0, 0, 0, 0, 0, 0, 0, 0, 0, 0, 0, 0, 0, 0, 0, 0, 0, 0, 0, 0, 0, 0, 0, 0, 0, 0, 0, 0, 0, 0, 0, 0, 0, 0, 0, 0, 0, 0]\n",
      "Epoch 3, Train Loss: 0.4931982060273488, Validation Loss: 2.7721694707870483, Accuracy: 22.22222222222222 %\n",
      "Class 0 F1 Score: 0.3636363636363636\n",
      "Class 1 F1 Score: 0.0\n",
      "Class 2 F1 Score: 0.0\n",
      "tensor([0, 0, 0, 0, 0, 0, 0, 0, 0, 0, 1, 1, 1, 1, 1, 1, 1, 1, 1, 1, 1, 1, 1, 1,\n",
      "        1, 1, 1, 1, 1, 2, 2, 2], device='cuda:0') [0, 0, 0, 0, 0, 0, 0, 0, 0, 0, 0, 0, 0, 0, 0, 0, 0, 0, 0, 0, 0, 0, 0, 0, 0, 0, 0, 0, 0, 0, 0, 0]\n",
      "tensor([2, 2, 2, 2, 2, 2, 2, 2, 2, 2, 2, 2, 2], device='cuda:0') [0, 0, 0, 0, 0, 0, 0, 0, 0, 0, 0, 0, 0, 0, 0, 0, 0, 0, 0, 0, 0, 0, 0, 0, 0, 0, 0, 0, 0, 0, 0, 0, 0, 0, 0, 0, 0, 0, 0, 0, 0, 0, 0, 0, 0]\n",
      "Epoch 4, Train Loss: 0.3945552359024684, Validation Loss: 3.7021788358688354, Accuracy: 22.22222222222222 %\n",
      "Class 0 F1 Score: 0.3636363636363636\n",
      "Class 1 F1 Score: 0.0\n",
      "Class 2 F1 Score: 0.0\n",
      "tensor([0, 0, 0, 0, 0, 0, 0, 0, 0, 0, 1, 1, 1, 1, 1, 1, 1, 1, 1, 1, 1, 1, 1, 1,\n",
      "        1, 1, 1, 1, 1, 2, 2, 2], device='cuda:0') [0, 0, 0, 0, 0, 0, 0, 0, 0, 0, 0, 0, 0, 0, 0, 0, 0, 0, 0, 0, 0, 0, 0, 0, 0, 0, 0, 0, 0, 0, 0, 0]\n",
      "tensor([2, 2, 2, 2, 2, 2, 2, 2, 2, 2, 2, 2, 2], device='cuda:0') [0, 0, 0, 0, 0, 0, 0, 0, 0, 0, 0, 0, 0, 0, 0, 0, 0, 0, 0, 0, 0, 0, 0, 0, 0, 0, 0, 0, 0, 0, 0, 0, 0, 0, 0, 0, 0, 0, 0, 0, 0, 0, 0, 0, 0]\n",
      "Epoch 5, Train Loss: 0.32705464710791904, Validation Loss: 3.6561317443847656, Accuracy: 22.22222222222222 %\n",
      "Class 0 F1 Score: 0.3636363636363636\n",
      "Class 1 F1 Score: 0.0\n",
      "Class 2 F1 Score: 0.0\n",
      "tensor([0, 0, 0, 0, 0, 0, 0, 0, 0, 0, 1, 1, 1, 1, 1, 1, 1, 1, 1, 1, 1, 1, 1, 1,\n",
      "        1, 1, 1, 1, 1, 2, 2, 2], device='cuda:0') [0, 0, 0, 0, 0, 0, 0, 0, 0, 0, 0, 0, 0, 0, 0, 0, 0, 0, 0, 0, 0, 2, 0, 0, 2, 0, 0, 0, 0, 0, 0, 2]\n",
      "tensor([2, 2, 2, 2, 2, 2, 2, 2, 2, 2, 2, 2, 2], device='cuda:0') [0, 0, 0, 0, 0, 0, 0, 0, 0, 0, 0, 0, 0, 0, 0, 0, 0, 0, 0, 0, 0, 2, 0, 0, 2, 0, 0, 0, 0, 0, 0, 2, 0, 0, 2, 0, 0, 2, 1, 2, 0, 0, 0, 0, 2]\n",
      "Epoch 6, Train Loss: 0.2515022282799085, Validation Loss: 2.5283175706863403, Accuracy: 33.333333333333336 %\n",
      "Class 0 F1 Score: 0.4255319148936171\n",
      "Class 1 F1 Score: 0.0\n",
      "Class 2 F1 Score: 0.43478260869565216\n",
      "tensor([0, 0, 0, 0, 0, 0, 0, 0, 0, 0, 1, 1, 1, 1, 1, 1, 1, 1, 1, 1, 1, 1, 1, 1,\n",
      "        1, 1, 1, 1, 1, 2, 2, 2], device='cuda:0') [0, 0, 0, 0, 0, 0, 0, 0, 0, 0, 0, 2, 0, 0, 2, 2, 2, 0, 0, 0, 2, 1, 2, 0, 2, 0, 0, 0, 2, 2, 2, 1]\n",
      "tensor([2, 2, 2, 2, 2, 2, 2, 2, 2, 2, 2, 2, 2], device='cuda:0') [0, 0, 0, 0, 0, 0, 0, 0, 0, 0, 0, 2, 0, 0, 2, 2, 2, 0, 0, 0, 2, 1, 2, 0, 2, 0, 0, 0, 2, 2, 2, 1, 2, 0, 1, 0, 2, 1, 1, 1, 0, 2, 2, 2, 1]\n",
      "Epoch 7, Train Loss: 0.23181004698077837, Validation Loss: 1.9030138850212097, Accuracy: 40.0 %\n",
      "Class 0 F1 Score: 0.6060606060606061\n",
      "Class 1 F1 Score: 0.07692307692307693\n",
      "Class 2 F1 Score: 0.45161290322580644\n",
      "tensor([0, 0, 0, 0, 0, 0, 0, 0, 0, 0, 1, 1, 1, 1, 1, 1, 1, 1, 1, 1, 1, 1, 1, 1,\n",
      "        1, 1, 1, 1, 1, 2, 2, 2], device='cuda:0') [0, 0, 0, 0, 0, 0, 0, 0, 0, 0, 0, 2, 2, 2, 2, 1, 2, 0, 0, 2, 1, 1, 1, 0, 1, 0, 0, 2, 2, 2, 2, 1]\n",
      "tensor([2, 2, 2, 2, 2, 2, 2, 2, 2, 2, 2, 2, 2], device='cuda:0') [0, 0, 0, 0, 0, 0, 0, 0, 0, 0, 0, 2, 2, 2, 2, 1, 2, 0, 0, 2, 1, 1, 1, 0, 1, 0, 0, 2, 2, 2, 2, 1, 1, 2, 1, 2, 1, 1, 1, 1, 0, 2, 1, 1, 1]\n",
      "Epoch 8, Train Loss: 0.15035650879144669, Validation Loss: 1.5283884406089783, Accuracy: 44.44444444444444 %\n",
      "Class 0 F1 Score: 0.7407407407407407\n",
      "Class 1 F1 Score: 0.29411764705882354\n",
      "Class 2 F1 Score: 0.3448275862068966\n",
      "tensor([0, 0, 0, 0, 0, 0, 0, 0, 0, 0, 1, 1, 1, 1, 1, 1, 1, 1, 1, 1, 1, 1, 1, 1,\n",
      "        1, 1, 1, 1, 1, 2, 2, 2], device='cuda:0') [0, 0, 0, 0, 0, 2, 0, 0, 0, 0, 0, 1, 1, 2, 1, 1, 1, 2, 0, 2, 1, 1, 1, 0, 1, 2, 2, 2, 2, 2, 2, 1]\n",
      "tensor([2, 2, 2, 2, 2, 2, 2, 2, 2, 2, 2, 2, 2], device='cuda:0') [0, 0, 0, 0, 0, 2, 0, 0, 0, 0, 0, 1, 1, 2, 1, 1, 1, 2, 0, 2, 1, 1, 1, 0, 1, 2, 2, 2, 2, 2, 2, 1, 2, 2, 1, 2, 2, 2, 2, 2, 0, 2, 2, 1, 2]\n",
      "Epoch 9, Train Loss: 0.11516252035895984, Validation Loss: 0.7692643105983734, Accuracy: 66.66666666666667 %\n",
      "Class 0 F1 Score: 0.7826086956521738\n",
      "Class 1 F1 Score: 0.5806451612903226\n",
      "Class 2 F1 Score: 0.6666666666666665\n",
      "tensor([0, 0, 0, 0, 0, 0, 0, 0, 0, 0, 1, 1, 1, 1, 1, 1, 1, 1, 1, 1, 1, 1, 1, 1,\n",
      "        1, 1, 1, 1, 1, 2, 2, 2], device='cuda:0') [0, 0, 0, 0, 0, 2, 0, 0, 0, 0, 0, 1, 1, 1, 1, 1, 1, 2, 2, 1, 1, 1, 1, 2, 1, 2, 2, 1, 1, 2, 2, 2]\n",
      "tensor([2, 2, 2, 2, 2, 2, 2, 2, 2, 2, 2, 2, 2], device='cuda:0') [0, 0, 0, 0, 0, 2, 0, 0, 0, 0, 0, 1, 1, 1, 1, 1, 1, 2, 2, 1, 1, 1, 1, 2, 1, 2, 2, 1, 1, 2, 2, 2, 2, 2, 1, 2, 1, 2, 2, 2, 0, 2, 2, 1, 2]\n",
      "Epoch 10, Train Loss: 0.08888123743236065, Validation Loss: 0.537444531917572, Accuracy: 75.55555555555556 %\n",
      "Class 0 F1 Score: 0.8571428571428572\n",
      "Class 1 F1 Score: 0.742857142857143\n",
      "Class 2 F1 Score: 0.7058823529411765\n",
      "tensor([0, 0, 0, 0, 0, 0, 0, 0, 0, 0, 1, 1, 1, 1, 1, 1, 1, 1, 1, 1, 1, 1, 1, 1,\n",
      "        1, 1, 1, 1, 1, 2, 2, 2], device='cuda:0') [0, 0, 0, 0, 0, 2, 0, 0, 0, 0, 0, 1, 1, 1, 1, 1, 1, 1, 2, 1, 1, 1, 1, 2, 1, 1, 1, 1, 1, 2, 1, 1]\n",
      "tensor([2, 2, 2, 2, 2, 2, 2, 2, 2, 2, 2, 2, 2], device='cuda:0') [0, 0, 0, 0, 0, 2, 0, 0, 0, 0, 0, 1, 1, 1, 1, 1, 1, 1, 2, 1, 1, 1, 1, 2, 1, 1, 1, 1, 1, 2, 1, 1, 1, 2, 1, 1, 1, 1, 1, 1, 0, 2, 1, 1, 2]\n",
      "Epoch 11, Train Loss: 0.14284749142825603, Validation Loss: 1.1685483008623123, Accuracy: 64.44444444444444 %\n",
      "Class 0 F1 Score: 0.8571428571428572\n",
      "Class 1 F1 Score: 0.6956521739130435\n",
      "Class 2 F1 Score: 0.34782608695652173\n",
      "tensor([0, 0, 0, 0, 0, 0, 0, 0, 0, 0, 1, 1, 1, 1, 1, 1, 1, 1, 1, 1, 1, 1, 1, 1,\n",
      "        1, 1, 1, 1, 1, 2, 2, 2], device='cuda:0') [0, 0, 0, 0, 0, 2, 0, 0, 0, 0, 2, 1, 1, 1, 1, 1, 1, 1, 2, 1, 1, 1, 1, 2, 1, 1, 1, 1, 1, 2, 2, 2]\n",
      "tensor([2, 2, 2, 2, 2, 2, 2, 2, 2, 2, 2, 2, 2], device='cuda:0') [0, 0, 0, 0, 0, 2, 0, 0, 0, 0, 2, 1, 1, 1, 1, 1, 1, 1, 2, 1, 1, 1, 1, 2, 1, 1, 1, 1, 1, 2, 2, 2, 2, 2, 2, 2, 1, 2, 2, 2, 2, 2, 2, 1, 2]\n",
      "Epoch 12, Train Loss: 0.06812592005978028, Validation Loss: 0.42192964255809784, Accuracy: 86.66666666666667 %\n",
      "Class 0 F1 Score: 0.9473684210526316\n",
      "Class 1 F1 Score: 0.8648648648648649\n",
      "Class 2 F1 Score: 0.823529411764706\n",
      "tensor([0, 0, 0, 0, 0, 0, 0, 0, 0, 0, 1, 1, 1, 1, 1, 1, 1, 1, 1, 1, 1, 1, 1, 1,\n",
      "        1, 1, 1, 1, 1, 2, 2, 2], device='cuda:0') [0, 0, 0, 0, 0, 2, 0, 0, 0, 0, 2, 2, 1, 1, 2, 2, 2, 1, 2, 1, 1, 2, 2, 2, 2, 1, 1, 2, 2, 2, 2, 2]\n",
      "tensor([2, 2, 2, 2, 2, 2, 2, 2, 2, 2, 2, 2, 2], device='cuda:0') [0, 0, 0, 0, 0, 2, 0, 0, 0, 0, 2, 2, 1, 1, 2, 2, 2, 1, 2, 1, 1, 2, 2, 2, 2, 1, 1, 2, 2, 2, 2, 2, 2, 2, 2, 2, 2, 2, 2, 2, 2, 2, 2, 2, 2]\n",
      "Epoch 13, Train Loss: 0.03207391438384851, Validation Loss: 0.5969367735087872, Accuracy: 71.11111111111111 %\n",
      "Class 0 F1 Score: 0.9473684210526316\n",
      "Class 1 F1 Score: 0.5384615384615384\n",
      "Class 2 F1 Score: 0.7111111111111111\n",
      "tensor([0, 0, 0, 0, 0, 0, 0, 0, 0, 0, 1, 1, 1, 1, 1, 1, 1, 1, 1, 1, 1, 1, 1, 1,\n",
      "        1, 1, 1, 1, 1, 2, 2, 2], device='cuda:0') [0, 0, 0, 0, 0, 2, 0, 0, 0, 0, 0, 1, 1, 1, 1, 1, 1, 1, 1, 1, 1, 1, 1, 1, 1, 1, 1, 1, 1, 2, 2, 2]\n",
      "tensor([2, 2, 2, 2, 2, 2, 2, 2, 2, 2, 2, 2, 2], device='cuda:0') [0, 0, 0, 0, 0, 2, 0, 0, 0, 0, 0, 1, 1, 1, 1, 1, 1, 1, 1, 1, 1, 1, 1, 1, 1, 1, 1, 1, 1, 2, 2, 2, 2, 2, 2, 1, 1, 2, 2, 2, 0, 2, 2, 1, 2]\n",
      "Epoch 14, Train Loss: 0.040862426782647766, Validation Loss: 0.35930921882390976, Accuracy: 86.66666666666667 %\n",
      "Class 0 F1 Score: 0.8571428571428572\n",
      "Class 1 F1 Score: 0.9\n",
      "Class 2 F1 Score: 0.8275862068965517\n"
     ]
    }
   ],
   "source": [
    "import torch\n",
    "import wandb\n",
    "from sklearn.metrics import f1_score\n",
    "from torch.utils.data import DataLoader\n",
    "from sklearn.model_selection import StratifiedKFold\n",
    "import csv\n",
    "\n",
    "model_names = [\"microsoft/resnet-50\", \"microsoft/resnet-18\", \"microsoft/beit-base-patch16-224-pt22k-ft22k\", \"google/vit-base-patch16-224\"]\n",
    "\n",
    "for model_name in model_names:\n",
    "    # Initialize a new wandb run\n",
    "    wandb.init(project=\"organoid_classification\", entity=\"laurent-gurtler\", name=model_name)\n",
    "\n",
    "    num_epochs = 30\n",
    "    learning_rate = 5e-5\n",
    "    batch_size = 32\n",
    "    k_folds = 5\n",
    "    weight_decay = 1e-5\n",
    "\n",
    "    config = wandb.config\n",
    "    config.learning_rate = learning_rate\n",
    "    config.batch_size = batch_size\n",
    "    config.num_epochs = num_epochs\n",
    "    config.k_folds = k_folds\n",
    "    config.weight_decay = weight_decay\n",
    "\n",
    "\n",
    "    all_labels_list = ['empty', 'j2', 'j8']\n",
    "\n",
    "    all_fold_f1_scores = []\n",
    "    num_labels = len(all_labels_list)  # The number of unique labels/classes in your dataset\n",
    "\n",
    "    # Assuming PATHES_LIST contains paths to your different class directories\n",
    "    img_labels = []\n",
    "    img_sort = []\n",
    "    for i, img_dir in enumerate(PATHES_LIST):\n",
    "        img_files = sorted([f for f in os.listdir(img_dir) if f.endswith(\".tiff\")])\n",
    "        img_labels.extend([i] * len(img_files))  # Labels for each image\n",
    "        img_sort.extend([os.path.join(img_dir, f) for f in img_files])  # Paths for each image\n",
    "\n",
    "    # Convert img_sort to a numpy array for easier indexing\n",
    "    img_sort = np.array(img_sort)\n",
    "\n",
    "    # Initialize StratifiedKFold\n",
    "    kf = StratifiedKFold(n_splits=k_folds, shuffle=True, random_state=42)\n",
    "\n",
    "    # Convert img_labels to numpy array for StratifiedKFold\n",
    "    img_labels = np.array(img_labels)\n",
    "\n",
    "    for fold, (train_idx, val_idx) in enumerate(kf.split(img_sort, img_labels)):\n",
    "        print(f\"Training on fold {fold+1}/{k_folds}\")\n",
    "        if \"beit\" in model_name:\n",
    "            config = BeitConfig.from_pretrained(model_name, num_labels=num_labels)\n",
    "            model = BeitForImageClassification(config)\n",
    "        elif \"resnet\" in model_name:\n",
    "            config = ResNetConfig.from_pretrained(model_name, num_labels=num_labels)\n",
    "            model = ResNetForImageClassification(config)\n",
    "        elif \"vit\" in model_name:\n",
    "            config = ViTConfig.from_pretrained(model_name, num_labels=num_labels)\n",
    "            model = ViTForImageClassification(config)\n",
    "        criterion = torch.nn.CrossEntropyLoss()\n",
    "        optimizer = optim.Adam(model.parameters(), lr=learning_rate, weight_decay=weight_decay)\n",
    "\n",
    "        # Split data into training and validation for this fold\n",
    "        train_data = img_sort[train_idx]\n",
    "        val_data = img_sort[val_idx]\n",
    "\n",
    "        # Create datasets for this fold\n",
    "        train_dataset = CustomImageDataset_train(train_data, img_labels[train_idx], \n",
    "                                                transform=False, \n",
    "                                                model_name=model_name)\n",
    "        test_dataset = CustomImageDataset_test(val_data, img_labels[val_idx], \n",
    "                                            transform=False, \n",
    "                                            model_name=model_name)\n",
    "        \n",
    "\n",
    "        test_loader = DataLoader(test_dataset, batch_size=batch_size, shuffle=False)\n",
    "        train_loader = DataLoader(train_dataset, batch_size=batch_size, shuffle=True)\n",
    "\n",
    "        device = torch.device(\"cuda\" if torch.cuda.is_available() else \"cpu\")\n",
    "        print(device)\n",
    "        model.to(device)\n",
    "\n",
    "        wandb.watch(model, criterion, log=\"all\", log_freq=10)\n",
    "\n",
    "        epoch_f1_scores_dict_list = []\n",
    "\n",
    "        num_images_displayed = 0\n",
    "\n",
    "        for epoch in range(num_epochs):\n",
    "            model.train()\n",
    "            running_loss = 0.0\n",
    "            for images, labels in train_loader:\n",
    "                images = images.to(device)\n",
    "                labels = labels.to(device)  # Convert labels to torch.long\n",
    "                optimizer.zero_grad()\n",
    "                outputs = model(images).logits\n",
    "                loss = criterion(outputs, labels)\n",
    "                loss.backward()\n",
    "                optimizer.step()\n",
    "                running_loss += loss.item()\n",
    "            \n",
    "            wandb.log({\"fold\": fold+1, \"epoch\": epoch, \"train_loss\": running_loss/len(train_loader)})\n",
    "\n",
    "            # Validation phase\n",
    "            model.eval()\n",
    "            all_labels = []\n",
    "            all_predictions = []\n",
    "            validation_loss = 0.0\n",
    "            correct = 0\n",
    "            total = 0\n",
    "\n",
    "            with torch.no_grad():\n",
    "                for images, labels in test_loader:\n",
    "                    images = images.to(device)\n",
    "                    labels = labels.to(device)\n",
    "                    outputs = model(images).logits\n",
    "                    predicted = outputs.argmax(dim=1)\n",
    "                    total += labels.size(0)\n",
    "                    correct += (predicted == labels).sum().item()\n",
    "                    loss = criterion(outputs, labels)\n",
    "                    validation_loss += loss.item()\n",
    "\n",
    "                    # Move the labels and predictions to CPU for sklearn metrics\n",
    "                    all_labels.extend(labels.cpu().numpy())\n",
    "                    all_predictions.extend(predicted.cpu().numpy())\n",
    "                    print(labels, all_predictions)\n",
    "\n",
    "            # Calculate accuracy and F1 score\n",
    "            accuracy = 100 * correct / total\n",
    "            f1_scores = f1_score(all_labels, all_predictions, average=None, zero_division=0)  # This will give you an array of F1 scores per class\n",
    "            # Check if the length of F1 scores matches the number of labels\n",
    "            if len(f1_scores) != len(all_labels_list):\n",
    "                print(f\"Warning: Number of F1 scores ({len(f1_scores)}) does not match number of classes ({len(all_labels_list)})\")\n",
    "                # Trim the list of F1 scores to match the number of classes, if necessary\n",
    "                f1_scores = f1_scores[:len(all_labels_list)]\n",
    "\n",
    "            # Create a dictionary of class labels and their corresponding F1 scores\n",
    "            f1_scores_dict = {all_labels_list[idx]: f1 for idx, f1 in enumerate(f1_scores)}\n",
    "            epoch_f1_scores_dict_list.append(f1_scores_dict)\n",
    "\n",
    "            # It might be useful to also get the classification report for all metrics\n",
    "            classification_rep = classification_report(all_labels, all_predictions, output_dict=True, zero_division=0)\n",
    "\n",
    "            # Logging the individual F1 scores\n",
    "            for idx, f1 in enumerate(f1_scores):\n",
    "                wandb.log({f\"class_{idx}_f1_score\": f1})\n",
    "\n",
    "\n",
    "            wandb.log({\"fold\": fold+1, \"epoch\": epoch, \"val_loss\": validation_loss/len(test_loader), \"val_accuracy\": accuracy})\n",
    "\n",
    "            # Print statistics for each class\n",
    "            print(f\"Epoch {epoch+1}, Train Loss: {running_loss/len(train_loader)}, \"\n",
    "                f\"Validation Loss: {validation_loss/len(test_loader)}, Accuracy: {accuracy} %\")\n",
    "            for idx, f1 in enumerate(f1_scores):\n",
    "                print(f\"Class {idx} F1 Score: {f1}\")\n",
    "\n",
    "            for idx, f1 in enumerate(f1_scores):\n",
    "                wandb.log({f\"class_{idx}_f1_score\": f1})\n",
    "\n",
    "        # Access the F1-scores for the last epoch\n",
    "            # Access the F1-scores for the last epoch of this fold\n",
    "        last_epoch_f1_scores = epoch_f1_scores_dict_list[-1]\n",
    "\n",
    "        # Append model name, fold number, and F1 scores to the list\n",
    "        fold_data = {\"model_name\": model_name, \"fold\": fold + 1}\n",
    "        fold_data.update(last_epoch_f1_scores)\n",
    "        all_fold_f1_scores.append(fold_data)\n",
    "\n",
    "        # Clear the epoch_f1_scores_dict_list for the next fold\n",
    "        epoch_f1_scores_dict_list.clear()\n",
    "\n",
    "        # The last_epoch_f1_scores already contains the F1 scores for each class from the last epoch\n",
    "        # Optionally, you can directly plot these scores if needed\n",
    "        plot_average_f1_scores(all_labels_list, last_epoch_f1_scores)\n",
    "\n",
    "\n",
    "        # After the loop, you may want to log the overall performance\n",
    "        wandb.log({\n",
    "            \"fold\": fold+1, \"final_accuracy\": accuracy,\n",
    "            \"fold\": fold+1, \"final_f1_scores\": f1_scores.tolist(),  # Convert to list if necessary\n",
    "            \"fold\": fold+1, \"final_classification_report\": classification_rep\n",
    "        })\n",
    "\n",
    "        csv_filename = FILE_PATH + 'f1_scores_per_fold.csv'\n",
    "        existing_data = []\n",
    "\n",
    "        # Read existing data\n",
    "        if os.path.exists(csv_filename):\n",
    "            with open(csv_filename, 'r') as file:\n",
    "                reader = csv.DictReader(file)\n",
    "                existing_data = [row for row in reader]\n",
    "\n",
    "        # Update or append new data\n",
    "        for new_data in all_fold_f1_scores:\n",
    "            model_found = False\n",
    "            for existing_row in existing_data:\n",
    "                if existing_row['model_name'] == new_data['model_name'] and existing_row['fold'] == str(new_data['fold']):\n",
    "                    # Update existing row with new data\n",
    "                    for key, value in new_data.items():\n",
    "                        existing_row[key] = value\n",
    "                    model_found = True\n",
    "                    break\n",
    "            if not model_found:\n",
    "                # Convert numeric values to strings for CSV writing\n",
    "                new_data_string = {k: str(v) for k, v in new_data.items()}\n",
    "                existing_data.append(new_data_string)\n",
    "\n",
    "        # Write updated data back to CSV\n",
    "        header = ['model_name', 'fold'] + all_labels_list\n",
    "\n",
    "        with open(csv_filename, 'w', newline='') as file:\n",
    "            writer = csv.DictWriter(file, fieldnames=header)\n",
    "            writer.writeheader()\n",
    "            for data_row in existing_data:\n",
    "                writer.writerow(data_row)\n",
    "\n",
    "    # Close the wandb run\n",
    "    wandb.finish()\n"
   ]
  },
  {
   "cell_type": "code",
   "execution_count": 29,
   "metadata": {},
   "outputs": [
    {
     "data": {
      "image/png": "[encoded data removed]",
      "text/plain": [
       "<Figure size 1200x600 with 1 Axes>"
      ]
     },
     "metadata": {},
     "output_type": "display_data"
    }
   ],
   "source": [
    "import seaborn as sns\n",
    "\n",
    "df = pd.read_csv(csv_filename)\n",
    "df_long = df.melt(id_vars=['model_name', 'fold'], \n",
    "                  value_vars=all_labels_list,  # list all your label columns here\n",
    "                  var_name='label', value_name='f1_score')\n",
    "# Creating a boxplot for each label within each model\n",
    "plt.figure(figsize=(12, 6))\n",
    "\n",
    "# You might need to adjust the size of the figure based on the number of models and labels\n",
    "sns.boxplot(x='label', y='f1_score', hue='model_name', data=df_long)\n",
    "\n",
    "plt.title('F1 Score Distribution over Folds for Each Label and Model')\n",
    "plt.xlabel('Label')\n",
    "plt.ylabel('F1 Score')\n",
    "plt.legend(title='Model Name')\n",
    "plt.show()"
   ]
  },
  {
   "cell_type": "code",
   "execution_count": null,
   "metadata": {},
   "outputs": [],
   "source": []
  }
 ],
 "metadata": {
  "kernelspec": {
   "display_name": "organoids-project",
   "language": "python",
   "name": "python3"
  },
  "language_info": {
   "codemirror_mode": {
    "name": "ipython",
    "version": 3
   },
   "file_extension": ".py",
   "mimetype": "text/x-python",
   "name": "python",
   "nbconvert_exporter": "python",
   "pygments_lexer": "ipython3",
   "version": "3.11.5"
  }
 },
 "nbformat": 4,
 "nbformat_minor": 4
}
